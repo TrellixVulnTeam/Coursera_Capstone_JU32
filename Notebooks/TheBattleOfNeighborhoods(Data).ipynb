{
 "metadata": {
  "language_info": {
   "codemirror_mode": {
    "name": "ipython",
    "version": 3
   },
   "file_extension": ".py",
   "mimetype": "text/x-python",
   "name": "python",
   "nbconvert_exporter": "python",
   "pygments_lexer": "ipython3",
   "version": 3
  },
  "orig_nbformat": 2
 },
 "nbformat": 4,
 "nbformat_minor": 2,
 "cells": [
  {
   "source": [
    "# Data"
   ],
   "cell_type": "markdown",
   "metadata": {}
  },
  {
   "source": [
    "Utilizaremos los datos proporcionados por Wikipedia para obtener el código postal de cada ciudad mencionada, unificaremos las ciudades para tener sólo dos al final (Toronto y York).\n",
    "\n",
    "Utilizaremos los datos de latitud y longitud para imprimir la ubicación de cada una en un mapa.\n",
    "\n",
    "Luego utilizaremos la API de Foursquare para obtener las calificaciones de la categoria de restaurantes para finalmente obtener un promedio de calificación para cada ciudad y así poder seleccionar la mejor."
   ],
   "cell_type": "markdown",
   "metadata": {}
  },
  {
   "source": [
    "We will use the data provided by Wikipedia to obtain the postal code of each city mentioned, we will unify the cities to have only two at the end (Toronto and York).\n",
    "\n",
    "We will use the latitude and longitude data to print each location on a map.\n",
    "\n",
    "Then we will use the Foursquare API to obtain the ratings of the restaurant category to finally obtain an average rating for each city and thus be able to select the best one."
   ],
   "cell_type": "markdown",
   "metadata": {}
  }
 ]
}