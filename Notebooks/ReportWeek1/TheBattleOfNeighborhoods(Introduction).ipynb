{
 "metadata": {
  "language_info": {
   "codemirror_mode": {
    "name": "ipython",
    "version": 3
   },
   "file_extension": ".py",
   "mimetype": "text/x-python",
   "name": "python",
   "nbconvert_exporter": "python",
   "pygments_lexer": "ipython3",
   "version": 3
  },
  "orig_nbformat": 2
 },
 "nbformat": 4,
 "nbformat_minor": 2,
 "cells": [
  {
   "source": [
    "# Introduction/Business Problem"
   ],
   "cell_type": "markdown",
   "metadata": {}
  },
  {
   "source": [
    "## Toronto vs York. Where to eat better?\n",
    "\n",
    "Eventually, at some point in life, we must leave behind the place we have lived in for years, for a job change, looking for better opportunities, or simply to gain new experiences.\n",
    "\n",
    "There are many elements that we must consider in order to make a decision about the place we will choose to live the next stage of our life. Since, in general, people change their home to live there for a long time, the resources available in the new home must be analyzed in depth, since the quality of life, that they have, will largely depend on it.\n",
    "\n",
    "One of the points that must be taken into account is food, so in this analysis we will focus on distinguishing which city has the best places to eat. The cities considered are those that contain the words Toronto (Downtown Toronto, East Toronto, West Toronto, Central Toronto) and York (North York, East York, York), we will treat each group as a different city."
   ],
   "cell_type": "markdown",
   "metadata": {}
  }
 ]
}