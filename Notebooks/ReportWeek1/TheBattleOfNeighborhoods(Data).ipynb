{
 "metadata": {
  "language_info": {
   "codemirror_mode": {
    "name": "ipython",
    "version": 3
   },
   "file_extension": ".py",
   "mimetype": "text/x-python",
   "name": "python",
   "nbconvert_exporter": "python",
   "pygments_lexer": "ipython3",
   "version": 3
  },
  "orig_nbformat": 2
 },
 "nbformat": 4,
 "nbformat_minor": 2,
 "cells": [
  {
   "source": [
    "# Data"
   ],
   "cell_type": "markdown",
   "metadata": {}
  },
  {
   "source": [
    "We will use the data provided by Wikipedia to obtain the postal code of each city mentioned, we will unify the cities to have only two at the end (Toronto and York).\n",
    "\n",
    "We will use the latitude and longitude data to print each location on a map.\n",
    "\n",
    "Then we will use the Foursquare API to obtain the ratings of the restaurant category to finally obtain an average rating for each city and thus be able to select the best one."
   ],
   "cell_type": "markdown",
   "metadata": {}
  }
 ]
}