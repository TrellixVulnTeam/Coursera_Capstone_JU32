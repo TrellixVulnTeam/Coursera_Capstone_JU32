{
 "metadata": {
  "language_info": {
   "codemirror_mode": {
    "name": "ipython",
    "version": 3
   },
   "file_extension": ".py",
   "mimetype": "text/x-python",
   "name": "python",
   "nbconvert_exporter": "python",
   "pygments_lexer": "ipython3",
   "version": "3.7.7-final"
  },
  "orig_nbformat": 2,
  "kernelspec": {
   "name": "Python 3.7.7 64-bit ('env')",
   "display_name": "Python 3.7.7 64-bit ('env')",
   "metadata": {
    "interpreter": {
     "hash": "bb61d3eaf39814e9c775e0c848417c21815b5b11410eaccc4eaa7be2fd593ae9"
    }
   }
  }
 },
 "nbformat": 4,
 "nbformat_minor": 2,
 "cells": [
  {
   "source": [
    "# Segmenting and Clustering Neighborhoods in Toronto."
   ],
   "cell_type": "markdown",
   "metadata": {}
  },
  {
   "source": [
    "## TASK 1\n",
    "\n",
    "### Scrape the Wikipedia page."
   ],
   "cell_type": "markdown",
   "metadata": {}
  },
  {
   "source": [
    "#### Import the libraries that we will use."
   ],
   "cell_type": "markdown",
   "metadata": {}
  },
  {
   "cell_type": "code",
   "execution_count": 180,
   "metadata": {},
   "outputs": [],
   "source": [
    "import pandas as pd\n",
    "from pandas.io.json import json_normalize\n",
    "\n",
    "import numpy as np\n",
    "\n",
    "import matplotlib.cm as cm\n",
    "import matplotlib.colors as colors\n",
    "\n",
    "from sklearn.cluster import KMeans\n",
    "\n",
    "from bs4 import BeautifulSoup\n",
    "import requests\n",
    "\n",
    "from geopy.geocoders import Nominatim\n",
    "import folium"
   ]
  },
  {
   "source": [
    "#### Create the request which will get the HTML document than contains the data."
   ],
   "cell_type": "markdown",
   "metadata": {}
  },
  {
   "cell_type": "code",
   "execution_count": 181,
   "metadata": {},
   "outputs": [],
   "source": [
    "req = requests.get('https://en.wikipedia.org/wiki/List_of_postal_codes_of_Canada:_M')\n",
    "soup = BeautifulSoup(req.text,'html.parser')"
   ]
  },
  {
   "source": [
    "#### Whit the data in the soup object, we will to scrape the HTML document that contains until to get de table element. Then we will iterate in it to get each row and append each in a pandas DataFrame"
   ],
   "cell_type": "markdown",
   "metadata": {}
  },
  {
   "cell_type": "code",
   "execution_count": 182,
   "metadata": {},
   "outputs": [
    {
     "output_type": "stream",
     "name": "stdout",
     "text": [
      "(180, 3)\n"
     ]
    },
    {
     "output_type": "execute_result",
     "data": {
      "text/plain": [
       "  Postal Code           Borough              Neighbourhood\n",
       "0         M1A      Not assigned               Not assigned\n",
       "1         M2A      Not assigned               Not assigned\n",
       "2         M3A        North York                  Parkwoods\n",
       "3         M4A        North York           Victoria Village\n",
       "4         M5A  Downtown Toronto  Regent Park, Harbourfront"
      ],
      "text/html": "<div>\n<style scoped>\n    .dataframe tbody tr th:only-of-type {\n        vertical-align: middle;\n    }\n\n    .dataframe tbody tr th {\n        vertical-align: top;\n    }\n\n    .dataframe thead th {\n        text-align: right;\n    }\n</style>\n<table border=\"1\" class=\"dataframe\">\n  <thead>\n    <tr style=\"text-align: right;\">\n      <th></th>\n      <th>Postal Code</th>\n      <th>Borough</th>\n      <th>Neighbourhood</th>\n    </tr>\n  </thead>\n  <tbody>\n    <tr>\n      <th>0</th>\n      <td>M1A</td>\n      <td>Not assigned</td>\n      <td>Not assigned</td>\n    </tr>\n    <tr>\n      <th>1</th>\n      <td>M2A</td>\n      <td>Not assigned</td>\n      <td>Not assigned</td>\n    </tr>\n    <tr>\n      <th>2</th>\n      <td>M3A</td>\n      <td>North York</td>\n      <td>Parkwoods</td>\n    </tr>\n    <tr>\n      <th>3</th>\n      <td>M4A</td>\n      <td>North York</td>\n      <td>Victoria Village</td>\n    </tr>\n    <tr>\n      <th>4</th>\n      <td>M5A</td>\n      <td>Downtown Toronto</td>\n      <td>Regent Park, Harbourfront</td>\n    </tr>\n  </tbody>\n</table>\n</div>"
     },
     "metadata": {},
     "execution_count": 182
    }
   ],
   "source": [
    "# Get table element\n",
    "table = soup.find('table')\n",
    "\n",
    "# Get headers of table\n",
    "col_names = table.find_all('th')\n",
    "names = []\n",
    "for name in col_names:\n",
    "    names.append(name.string.strip()) \n",
    "\n",
    "# Create the DataFrame which will contain the data\n",
    "df = pd.DataFrame(columns = names)\n",
    "\n",
    "# Append each row in the DataFrame\n",
    "data = table.tbody.find_all('tr')\n",
    "for reg in data:\n",
    "    row = [ x.string.strip() for x in reg.find_all('td') ]\n",
    "    if len(row) > 0:\n",
    "        df = df.append( pd.DataFrame([row],columns =df.columns), ignore_index=True)\n",
    "\n",
    "print(df.shape)\n",
    "df.head()"
   ]
  },
  {
   "source": [
    "#### Clean and check data"
   ],
   "cell_type": "markdown",
   "metadata": {}
  },
  {
   "cell_type": "code",
   "execution_count": 183,
   "metadata": {},
   "outputs": [
    {
     "output_type": "stream",
     "name": "stdout",
     "text": [
      "Not assigned borough = 0\nRepeated postal code areas = 0\nNot assigned neighborhood = 0\n"
     ]
    },
    {
     "output_type": "execute_result",
     "data": {
      "text/plain": [
       "  Postal Code           Borough                                Neighbourhood\n",
       "0         M3A        North York                                    Parkwoods\n",
       "1         M4A        North York                             Victoria Village\n",
       "2         M5A  Downtown Toronto                    Regent Park, Harbourfront\n",
       "3         M6A        North York             Lawrence Manor, Lawrence Heights\n",
       "4         M7A  Downtown Toronto  Queen's Park, Ontario Provincial Government\n",
       "5         M9A         Etobicoke      Islington Avenue, Humber Valley Village\n",
       "6         M1B       Scarborough                               Malvern, Rouge\n",
       "7         M3B        North York                                    Don Mills\n",
       "8         M4B         East York              Parkview Hill, Woodbine Gardens\n",
       "9         M5B  Downtown Toronto                     Garden District, Ryerson"
      ],
      "text/html": "<div>\n<style scoped>\n    .dataframe tbody tr th:only-of-type {\n        vertical-align: middle;\n    }\n\n    .dataframe tbody tr th {\n        vertical-align: top;\n    }\n\n    .dataframe thead th {\n        text-align: right;\n    }\n</style>\n<table border=\"1\" class=\"dataframe\">\n  <thead>\n    <tr style=\"text-align: right;\">\n      <th></th>\n      <th>Postal Code</th>\n      <th>Borough</th>\n      <th>Neighbourhood</th>\n    </tr>\n  </thead>\n  <tbody>\n    <tr>\n      <th>0</th>\n      <td>M3A</td>\n      <td>North York</td>\n      <td>Parkwoods</td>\n    </tr>\n    <tr>\n      <th>1</th>\n      <td>M4A</td>\n      <td>North York</td>\n      <td>Victoria Village</td>\n    </tr>\n    <tr>\n      <th>2</th>\n      <td>M5A</td>\n      <td>Downtown Toronto</td>\n      <td>Regent Park, Harbourfront</td>\n    </tr>\n    <tr>\n      <th>3</th>\n      <td>M6A</td>\n      <td>North York</td>\n      <td>Lawrence Manor, Lawrence Heights</td>\n    </tr>\n    <tr>\n      <th>4</th>\n      <td>M7A</td>\n      <td>Downtown Toronto</td>\n      <td>Queen's Park, Ontario Provincial Government</td>\n    </tr>\n    <tr>\n      <th>5</th>\n      <td>M9A</td>\n      <td>Etobicoke</td>\n      <td>Islington Avenue, Humber Valley Village</td>\n    </tr>\n    <tr>\n      <th>6</th>\n      <td>M1B</td>\n      <td>Scarborough</td>\n      <td>Malvern, Rouge</td>\n    </tr>\n    <tr>\n      <th>7</th>\n      <td>M3B</td>\n      <td>North York</td>\n      <td>Don Mills</td>\n    </tr>\n    <tr>\n      <th>8</th>\n      <td>M4B</td>\n      <td>East York</td>\n      <td>Parkview Hill, Woodbine Gardens</td>\n    </tr>\n    <tr>\n      <th>9</th>\n      <td>M5B</td>\n      <td>Downtown Toronto</td>\n      <td>Garden District, Ryerson</td>\n    </tr>\n  </tbody>\n</table>\n</div>"
     },
     "metadata": {},
     "execution_count": 183
    }
   ],
   "source": [
    "# Clean dataframe\n",
    "\n",
    "# Ignore cells with a borough that is Not assigned.\n",
    "df = df[(df['Borough'] != 'Not assigned')]\n",
    "print('Not assigned borough =',df[(df['Borough'] == 'Not assigned')]['Borough'].count())\n",
    "\n",
    "# More than one neighborhood can exist in one postal code area.\n",
    "print('Repeated postal code areas =',df['Postal Code'].value_counts()[(df['Postal Code'].value_counts() > 1)].count() )\n",
    "\n",
    "# Not assigned neighborhood count.\n",
    "print('Not assigned neighborhood =',df[(df['Neighbourhood'] == 'Not assigned')]['Neighbourhood'].count())\n",
    "\n",
    "df.reset_index(drop = True, inplace = True)\n",
    "\n",
    "df.head(10)"
   ]
  },
  {
   "cell_type": "code",
   "execution_count": 184,
   "metadata": {},
   "outputs": [
    {
     "output_type": "execute_result",
     "data": {
      "text/plain": [
       "(103, 3)"
      ]
     },
     "metadata": {},
     "execution_count": 184
    }
   ],
   "source": [
    "df.shape"
   ]
  },
  {
   "source": [
    "# Task 2\n",
    "\n",
    "### Get the latitude and the longitude coordinates of each neighborhood."
   ],
   "cell_type": "markdown",
   "metadata": {}
  },
  {
   "cell_type": "code",
   "execution_count": 185,
   "metadata": {},
   "outputs": [
    {
     "output_type": "execute_result",
     "data": {
      "text/plain": [
       "  Postal Code   Latitude  Longitude\n",
       "0         M1B  43.806686 -79.194353\n",
       "1         M1C  43.784535 -79.160497\n",
       "2         M1E  43.763573 -79.188711\n",
       "3         M1G  43.770992 -79.216917\n",
       "4         M1H  43.773136 -79.239476"
      ],
      "text/html": "<div>\n<style scoped>\n    .dataframe tbody tr th:only-of-type {\n        vertical-align: middle;\n    }\n\n    .dataframe tbody tr th {\n        vertical-align: top;\n    }\n\n    .dataframe thead th {\n        text-align: right;\n    }\n</style>\n<table border=\"1\" class=\"dataframe\">\n  <thead>\n    <tr style=\"text-align: right;\">\n      <th></th>\n      <th>Postal Code</th>\n      <th>Latitude</th>\n      <th>Longitude</th>\n    </tr>\n  </thead>\n  <tbody>\n    <tr>\n      <th>0</th>\n      <td>M1B</td>\n      <td>43.806686</td>\n      <td>-79.194353</td>\n    </tr>\n    <tr>\n      <th>1</th>\n      <td>M1C</td>\n      <td>43.784535</td>\n      <td>-79.160497</td>\n    </tr>\n    <tr>\n      <th>2</th>\n      <td>M1E</td>\n      <td>43.763573</td>\n      <td>-79.188711</td>\n    </tr>\n    <tr>\n      <th>3</th>\n      <td>M1G</td>\n      <td>43.770992</td>\n      <td>-79.216917</td>\n    </tr>\n    <tr>\n      <th>4</th>\n      <td>M1H</td>\n      <td>43.773136</td>\n      <td>-79.239476</td>\n    </tr>\n  </tbody>\n</table>\n</div>"
     },
     "metadata": {},
     "execution_count": 185
    }
   ],
   "source": [
    "df_cp = pd.read_csv('..\\Datasets\\Geospatial_Coordinates.csv')\n",
    "df_cp.head()"
   ]
  },
  {
   "cell_type": "code",
   "execution_count": 186,
   "metadata": {},
   "outputs": [
    {
     "output_type": "execute_result",
     "data": {
      "text/plain": [
       "  PostalCode           Borough                                 Neighborhood  \\\n",
       "0        M3A        North York                                    Parkwoods   \n",
       "1        M4A        North York                             Victoria Village   \n",
       "2        M5A  Downtown Toronto                    Regent Park, Harbourfront   \n",
       "3        M6A        North York             Lawrence Manor, Lawrence Heights   \n",
       "4        M7A  Downtown Toronto  Queen's Park, Ontario Provincial Government   \n",
       "5        M9A         Etobicoke      Islington Avenue, Humber Valley Village   \n",
       "6        M1B       Scarborough                               Malvern, Rouge   \n",
       "7        M3B        North York                                    Don Mills   \n",
       "8        M4B         East York              Parkview Hill, Woodbine Gardens   \n",
       "9        M5B  Downtown Toronto                     Garden District, Ryerson   \n",
       "\n",
       "    Latitude  Longitude  \n",
       "0  43.753259 -79.329656  \n",
       "1  43.725882 -79.315572  \n",
       "2  43.654260 -79.360636  \n",
       "3  43.718518 -79.464763  \n",
       "4  43.662301 -79.389494  \n",
       "5  43.667856 -79.532242  \n",
       "6  43.806686 -79.194353  \n",
       "7  43.745906 -79.352188  \n",
       "8  43.706397 -79.309937  \n",
       "9  43.657162 -79.378937  "
      ],
      "text/html": "<div>\n<style scoped>\n    .dataframe tbody tr th:only-of-type {\n        vertical-align: middle;\n    }\n\n    .dataframe tbody tr th {\n        vertical-align: top;\n    }\n\n    .dataframe thead th {\n        text-align: right;\n    }\n</style>\n<table border=\"1\" class=\"dataframe\">\n  <thead>\n    <tr style=\"text-align: right;\">\n      <th></th>\n      <th>PostalCode</th>\n      <th>Borough</th>\n      <th>Neighborhood</th>\n      <th>Latitude</th>\n      <th>Longitude</th>\n    </tr>\n  </thead>\n  <tbody>\n    <tr>\n      <th>0</th>\n      <td>M3A</td>\n      <td>North York</td>\n      <td>Parkwoods</td>\n      <td>43.753259</td>\n      <td>-79.329656</td>\n    </tr>\n    <tr>\n      <th>1</th>\n      <td>M4A</td>\n      <td>North York</td>\n      <td>Victoria Village</td>\n      <td>43.725882</td>\n      <td>-79.315572</td>\n    </tr>\n    <tr>\n      <th>2</th>\n      <td>M5A</td>\n      <td>Downtown Toronto</td>\n      <td>Regent Park, Harbourfront</td>\n      <td>43.654260</td>\n      <td>-79.360636</td>\n    </tr>\n    <tr>\n      <th>3</th>\n      <td>M6A</td>\n      <td>North York</td>\n      <td>Lawrence Manor, Lawrence Heights</td>\n      <td>43.718518</td>\n      <td>-79.464763</td>\n    </tr>\n    <tr>\n      <th>4</th>\n      <td>M7A</td>\n      <td>Downtown Toronto</td>\n      <td>Queen's Park, Ontario Provincial Government</td>\n      <td>43.662301</td>\n      <td>-79.389494</td>\n    </tr>\n    <tr>\n      <th>5</th>\n      <td>M9A</td>\n      <td>Etobicoke</td>\n      <td>Islington Avenue, Humber Valley Village</td>\n      <td>43.667856</td>\n      <td>-79.532242</td>\n    </tr>\n    <tr>\n      <th>6</th>\n      <td>M1B</td>\n      <td>Scarborough</td>\n      <td>Malvern, Rouge</td>\n      <td>43.806686</td>\n      <td>-79.194353</td>\n    </tr>\n    <tr>\n      <th>7</th>\n      <td>M3B</td>\n      <td>North York</td>\n      <td>Don Mills</td>\n      <td>43.745906</td>\n      <td>-79.352188</td>\n    </tr>\n    <tr>\n      <th>8</th>\n      <td>M4B</td>\n      <td>East York</td>\n      <td>Parkview Hill, Woodbine Gardens</td>\n      <td>43.706397</td>\n      <td>-79.309937</td>\n    </tr>\n    <tr>\n      <th>9</th>\n      <td>M5B</td>\n      <td>Downtown Toronto</td>\n      <td>Garden District, Ryerson</td>\n      <td>43.657162</td>\n      <td>-79.378937</td>\n    </tr>\n  </tbody>\n</table>\n</div>"
     },
     "metadata": {},
     "execution_count": 186
    }
   ],
   "source": [
    "data = pd.merge(df, df_cp, on = \"Postal Code\")\n",
    "data.rename(columns={'Postal Code':'PostalCode','Neighbourhood':'Neighborhood'}, inplace = True)\n",
    "data.head(10)"
   ]
  },
  {
   "source": [
    "# Task 3\n",
    "\n",
    "### Explore and cluster the neighborhoods in Toronto."
   ],
   "cell_type": "markdown",
   "metadata": {}
  },
  {
   "cell_type": "code",
   "execution_count": 187,
   "metadata": {},
   "outputs": [
    {
     "output_type": "execute_result",
     "data": {
      "text/plain": [
       "array(['North York', 'Downtown Toronto', 'Etobicoke', 'Scarborough',\n",
       "       'East York', 'York', 'East Toronto', 'West Toronto',\n",
       "       'Central Toronto', 'Mississauga'], dtype=object)"
      ]
     },
     "metadata": {},
     "execution_count": 187
    }
   ],
   "source": [
    "data['Borough'].unique()"
   ]
  },
  {
   "cell_type": "code",
   "execution_count": 188,
   "metadata": {},
   "outputs": [],
   "source": [
    "Toronto_mask = (data['Borough'] == 'Downtown Toronto') | (data['Borough'] == 'East Toronto') | (data['Borough'] == 'West Toronto') | (data['Borough'] == 'Central Toronto') "
   ]
  },
  {
   "source": [
    "### 3.1 Explore Dataset"
   ],
   "cell_type": "markdown",
   "metadata": {}
  },
  {
   "cell_type": "code",
   "execution_count": 189,
   "metadata": {},
   "outputs": [
    {
     "output_type": "execute_result",
     "data": {
      "text/plain": [
       "  PostalCode           Borough                                 Neighborhood  \\\n",
       "0        M5A  Downtown Toronto                    Regent Park, Harbourfront   \n",
       "1        M7A  Downtown Toronto  Queen's Park, Ontario Provincial Government   \n",
       "2        M5B  Downtown Toronto                     Garden District, Ryerson   \n",
       "3        M5C  Downtown Toronto                               St. James Town   \n",
       "4        M4E      East Toronto                                  The Beaches   \n",
       "\n",
       "    Latitude  Longitude  \n",
       "0  43.654260 -79.360636  \n",
       "1  43.662301 -79.389494  \n",
       "2  43.657162 -79.378937  \n",
       "3  43.651494 -79.375418  \n",
       "4  43.676357 -79.293031  "
      ],
      "text/html": "<div>\n<style scoped>\n    .dataframe tbody tr th:only-of-type {\n        vertical-align: middle;\n    }\n\n    .dataframe tbody tr th {\n        vertical-align: top;\n    }\n\n    .dataframe thead th {\n        text-align: right;\n    }\n</style>\n<table border=\"1\" class=\"dataframe\">\n  <thead>\n    <tr style=\"text-align: right;\">\n      <th></th>\n      <th>PostalCode</th>\n      <th>Borough</th>\n      <th>Neighborhood</th>\n      <th>Latitude</th>\n      <th>Longitude</th>\n    </tr>\n  </thead>\n  <tbody>\n    <tr>\n      <th>0</th>\n      <td>M5A</td>\n      <td>Downtown Toronto</td>\n      <td>Regent Park, Harbourfront</td>\n      <td>43.654260</td>\n      <td>-79.360636</td>\n    </tr>\n    <tr>\n      <th>1</th>\n      <td>M7A</td>\n      <td>Downtown Toronto</td>\n      <td>Queen's Park, Ontario Provincial Government</td>\n      <td>43.662301</td>\n      <td>-79.389494</td>\n    </tr>\n    <tr>\n      <th>2</th>\n      <td>M5B</td>\n      <td>Downtown Toronto</td>\n      <td>Garden District, Ryerson</td>\n      <td>43.657162</td>\n      <td>-79.378937</td>\n    </tr>\n    <tr>\n      <th>3</th>\n      <td>M5C</td>\n      <td>Downtown Toronto</td>\n      <td>St. James Town</td>\n      <td>43.651494</td>\n      <td>-79.375418</td>\n    </tr>\n    <tr>\n      <th>4</th>\n      <td>M4E</td>\n      <td>East Toronto</td>\n      <td>The Beaches</td>\n      <td>43.676357</td>\n      <td>-79.293031</td>\n    </tr>\n  </tbody>\n</table>\n</div>"
     },
     "metadata": {},
     "execution_count": 189
    }
   ],
   "source": [
    "data_T = data[Toronto_mask]\n",
    "data_T.reset_index(drop = True, inplace = True)\n",
    "data_T.head()"
   ]
  },
  {
   "cell_type": "code",
   "execution_count": 190,
   "metadata": {},
   "outputs": [
    {
     "output_type": "execute_result",
     "data": {
      "text/plain": [
       "(39, 5)"
      ]
     },
     "metadata": {},
     "execution_count": 190
    }
   ],
   "source": [
    "data_T.shape"
   ]
  },
  {
   "source": [
    "#### Create a map of Toronto with neighborhoods superimposed on top."
   ],
   "cell_type": "markdown",
   "metadata": {}
  },
  {
   "cell_type": "code",
   "execution_count": 191,
   "metadata": {},
   "outputs": [
    {
     "output_type": "stream",
     "name": "stdout",
     "text": [
      "The geograpical coordinate of Toronto are 43.6534817, -79.3839347.\n"
     ]
    }
   ],
   "source": [
    "# Get coordinates of Toronto\n",
    "address = 'Toronto, Canada'\n",
    "\n",
    "geolocator = Nominatim(user_agent=\"can_explorer\")\n",
    "location = geolocator.geocode(address)\n",
    "latitude = location.latitude\n",
    "longitude = location.longitude\n",
    "print('The geograpical coordinate of Toronto are {}, {}.'.format(latitude, longitude))"
   ]
  },
  {
   "cell_type": "code",
   "execution_count": 192,
   "metadata": {},
   "outputs": [
    {
     "output_type": "execute_result",
     "data": {
      "text/plain": [
       "<folium.folium.Map at 0x2541d38dc48>"
      ],
      "text/html": "<div style=\"width:100%;\"><div style=\"position:relative;width:100%;height:0;padding-bottom:60%;\"><span style=\"color:#565656\">Make this Notebook Trusted to load map: File -> Trust Notebook</span><iframe src=\"about:blank\" style=\"position:absolute;width:100%;height:100%;left:0;top:0;border:none !important;\" data-html=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 onload=\"this.contentDocument.open();this.contentDocument.write(atob(this.getAttribute('data-html')));this.contentDocument.close();\" allowfullscreen webkitallowfullscreen mozallowfullscreen></iframe></div></div>"
     },
     "metadata": {},
     "execution_count": 192
    }
   ],
   "source": [
    "# Create the map\n",
    "map_Toronto = folium.Map(location=[latitude, longitude], zoom_start=12)\n",
    "\n",
    "# add markers to map\n",
    "for lat, lng, borough, neighborhood in zip(data_T['Latitude'], data_T['Longitude'], data_T['Borough'], data_T['Neighborhood']):\n",
    "    label = '{}, {}'.format(neighborhood, borough)\n",
    "    label = folium.Popup(label, parse_html=True)\n",
    "    folium.CircleMarker(\n",
    "        [lat, lng],\n",
    "        radius=5,\n",
    "        popup=label,\n",
    "        color='blue',\n",
    "        fill=True,\n",
    "        fill_color='#3186cc',\n",
    "        fill_opacity=0.7,\n",
    "        parse_html=False).add_to(map_Toronto)  \n",
    "    \n",
    "map_Toronto"
   ]
  },
  {
   "cell_type": "code",
   "execution_count": 193,
   "metadata": {},
   "outputs": [
    {
     "output_type": "stream",
     "name": "stdout",
     "text": [
      "Your credentails:\nCLIENT_ID: J4OZD0YVDTOFSEOA0YMG3JNX1Q5FSHJ1XFGV4Y5DGETWDVDC\nCLIENT_SECRET:L0LLLYBWKOIIUCL2WVHLI4KFEVK4CVETPT003JMSG51FJIMM\n"
     ]
    }
   ],
   "source": [
    "# Define Foursquare Credentials and Version\n",
    "\n",
    "CLIENT_ID = 'J4OZD0YVDTOFSEOA0YMG3JNX1Q5FSHJ1XFGV4Y5DGETWDVDC' # your Foursquare ID\n",
    "CLIENT_SECRET = 'L0LLLYBWKOIIUCL2WVHLI4KFEVK4CVETPT003JMSG51FJIMM' # your Foursquare Secret\n",
    "VERSION = '20200601' # Foursquare API version\n",
    "LIMIT = 100 # A default Foursquare API limit value\n",
    "\n",
    "print('Your credentails:')\n",
    "print('CLIENT_ID: ' + CLIENT_ID)\n",
    "print('CLIENT_SECRET:' + CLIENT_SECRET)"
   ]
  },
  {
   "source": [
    "#### Define a function that extracts the category of the venue, to use in next section"
   ],
   "cell_type": "markdown",
   "metadata": {}
  },
  {
   "cell_type": "code",
   "execution_count": 194,
   "metadata": {},
   "outputs": [],
   "source": [
    "def get_category_type(row):\n",
    "    try:\n",
    "        categories_list = row['categories']\n",
    "    except:\n",
    "        categories_list = row['venue.categories']\n",
    "        \n",
    "    if len(categories_list) == 0:\n",
    "        return None\n",
    "    else:\n",
    "        return categories_list[0]['name']"
   ]
  },
  {
   "source": [
    "### 3.2 Explore Neighborhoods in Toronto"
   ],
   "cell_type": "markdown",
   "metadata": {}
  },
  {
   "source": [
    "#### Function to create the API request URL, make the GET request and return the relevant information for each nearby venue in Toronto"
   ],
   "cell_type": "markdown",
   "metadata": {}
  },
  {
   "cell_type": "code",
   "execution_count": 195,
   "metadata": {},
   "outputs": [],
   "source": [
    "def getNearbyVenues(names, latitudes, longitudes, radius=500):\n",
    "    \n",
    "    venues_list=[]\n",
    "    for name, lat, lng in zip(names, latitudes, longitudes):\n",
    "        print(name)\n",
    "            \n",
    "        # create the API request URL\n",
    "        url = 'https://api.foursquare.com/v2/venues/explore?&client_id={}&client_secret={}&v={}&ll={},{}&radius={}&limit={}'.format(\n",
    "            CLIENT_ID, \n",
    "            CLIENT_SECRET, \n",
    "            VERSION, \n",
    "            lat, \n",
    "            lng, \n",
    "            radius, \n",
    "            LIMIT)\n",
    "            \n",
    "        # make the GET request\n",
    "        results = requests.get(url).json()[\"response\"]['groups'][0]['items']\n",
    "        \n",
    "        # return only relevant information for each nearby venue\n",
    "        venues_list.append([(\n",
    "            name, \n",
    "            lat, \n",
    "            lng, \n",
    "            v['venue']['name'], \n",
    "            v['venue']['location']['lat'], \n",
    "            v['venue']['location']['lng'],  \n",
    "            v['venue']['categories'][0]['name']) for v in results])\n",
    "\n",
    "    nearby_venues = pd.DataFrame([item for venue_list in venues_list for item in venue_list])\n",
    "    nearby_venues.columns = ['Neighborhood', \n",
    "                  'Neighborhood Latitude', \n",
    "                  'Neighborhood Longitude', \n",
    "                  'Venue', \n",
    "                  'Venue Latitude', \n",
    "                  'Venue Longitude', \n",
    "                  'Venue Category']\n",
    "    \n",
    "    return(nearby_venues)"
   ]
  },
  {
   "source": [
    "#### Call the getNearbyVenues() function"
   ],
   "cell_type": "markdown",
   "metadata": {}
  },
  {
   "cell_type": "code",
   "execution_count": 1,
   "metadata": {},
   "outputs": [
    {
     "output_type": "error",
     "ename": "NameError",
     "evalue": "name 'getNearbyVenues' is not defined",
     "traceback": [
      "\u001b[1;31m---------------------------------------------------------------------------\u001b[0m",
      "\u001b[1;31mNameError\u001b[0m                                 Traceback (most recent call last)",
      "\u001b[1;32m<ipython-input-1-ed8b12de67bb>\u001b[0m in \u001b[0;36m<module>\u001b[1;34m\u001b[0m\n\u001b[0;32m      1\u001b[0m \u001b[0mbreakpoint\u001b[0m\u001b[1;33m(\u001b[0m\u001b[1;33m)\u001b[0m\u001b[1;33m\u001b[0m\u001b[1;33m\u001b[0m\u001b[0m\n\u001b[1;32m----> 2\u001b[1;33m Toronto_venues = getNearbyVenues(names=data_T['Neighborhood'],\n\u001b[0m\u001b[0;32m      3\u001b[0m                                    \u001b[0mlatitudes\u001b[0m\u001b[1;33m=\u001b[0m\u001b[0mdata_T\u001b[0m\u001b[1;33m[\u001b[0m\u001b[1;34m'Latitude'\u001b[0m\u001b[1;33m]\u001b[0m\u001b[1;33m,\u001b[0m\u001b[1;33m\u001b[0m\u001b[1;33m\u001b[0m\u001b[0m\n\u001b[0;32m      4\u001b[0m                                    \u001b[0mlongitudes\u001b[0m\u001b[1;33m=\u001b[0m\u001b[0mdata_T\u001b[0m\u001b[1;33m[\u001b[0m\u001b[1;34m'Longitude'\u001b[0m\u001b[1;33m]\u001b[0m\u001b[1;33m\u001b[0m\u001b[1;33m\u001b[0m\u001b[0m\n\u001b[0;32m      5\u001b[0m                                   )\n",
      "\u001b[1;31mNameError\u001b[0m: name 'getNearbyVenues' is not defined"
     ]
    }
   ],
   "source": [
    "Toronto_venues = getNearbyVenues(names=data_T['Neighborhood'],\n",
    "                                   latitudes=data_T['Latitude'],\n",
    "                                   longitudes=data_T['Longitude']\n",
    "                                  )"
   ]
  },
  {
   "source": [
    "#### There is the top 100 venues that are in each Neighborhood of Toronto within a radius of 500 meters."
   ],
   "cell_type": "markdown",
   "metadata": {}
  },
  {
   "cell_type": "code",
   "execution_count": 197,
   "metadata": {},
   "outputs": [
    {
     "output_type": "stream",
     "name": "stdout",
     "text": [
      "(1624, 7)\n"
     ]
    },
    {
     "output_type": "execute_result",
     "data": {
      "text/plain": [
       "                Neighborhood  Neighborhood Latitude  Neighborhood Longitude  \\\n",
       "0  Regent Park, Harbourfront               43.65426              -79.360636   \n",
       "1  Regent Park, Harbourfront               43.65426              -79.360636   \n",
       "2  Regent Park, Harbourfront               43.65426              -79.360636   \n",
       "3  Regent Park, Harbourfront               43.65426              -79.360636   \n",
       "4  Regent Park, Harbourfront               43.65426              -79.360636   \n",
       "\n",
       "                    Venue  Venue Latitude  Venue Longitude  \\\n",
       "0        Roselle Desserts       43.653447       -79.362017   \n",
       "1           Tandem Coffee       43.653559       -79.361809   \n",
       "2  Cooper Koo Family YMCA       43.653249       -79.358008   \n",
       "3     Body Blitz Spa East       43.654735       -79.359874   \n",
       "4          Impact Kitchen       43.656369       -79.356980   \n",
       "\n",
       "        Venue Category  \n",
       "0               Bakery  \n",
       "1          Coffee Shop  \n",
       "2  Distribution Center  \n",
       "3                  Spa  \n",
       "4           Restaurant  "
      ],
      "text/html": "<div>\n<style scoped>\n    .dataframe tbody tr th:only-of-type {\n        vertical-align: middle;\n    }\n\n    .dataframe tbody tr th {\n        vertical-align: top;\n    }\n\n    .dataframe thead th {\n        text-align: right;\n    }\n</style>\n<table border=\"1\" class=\"dataframe\">\n  <thead>\n    <tr style=\"text-align: right;\">\n      <th></th>\n      <th>Neighborhood</th>\n      <th>Neighborhood Latitude</th>\n      <th>Neighborhood Longitude</th>\n      <th>Venue</th>\n      <th>Venue Latitude</th>\n      <th>Venue Longitude</th>\n      <th>Venue Category</th>\n    </tr>\n  </thead>\n  <tbody>\n    <tr>\n      <th>0</th>\n      <td>Regent Park, Harbourfront</td>\n      <td>43.65426</td>\n      <td>-79.360636</td>\n      <td>Roselle Desserts</td>\n      <td>43.653447</td>\n      <td>-79.362017</td>\n      <td>Bakery</td>\n    </tr>\n    <tr>\n      <th>1</th>\n      <td>Regent Park, Harbourfront</td>\n      <td>43.65426</td>\n      <td>-79.360636</td>\n      <td>Tandem Coffee</td>\n      <td>43.653559</td>\n      <td>-79.361809</td>\n      <td>Coffee Shop</td>\n    </tr>\n    <tr>\n      <th>2</th>\n      <td>Regent Park, Harbourfront</td>\n      <td>43.65426</td>\n      <td>-79.360636</td>\n      <td>Cooper Koo Family YMCA</td>\n      <td>43.653249</td>\n      <td>-79.358008</td>\n      <td>Distribution Center</td>\n    </tr>\n    <tr>\n      <th>3</th>\n      <td>Regent Park, Harbourfront</td>\n      <td>43.65426</td>\n      <td>-79.360636</td>\n      <td>Body Blitz Spa East</td>\n      <td>43.654735</td>\n      <td>-79.359874</td>\n      <td>Spa</td>\n    </tr>\n    <tr>\n      <th>4</th>\n      <td>Regent Park, Harbourfront</td>\n      <td>43.65426</td>\n      <td>-79.360636</td>\n      <td>Impact Kitchen</td>\n      <td>43.656369</td>\n      <td>-79.356980</td>\n      <td>Restaurant</td>\n    </tr>\n  </tbody>\n</table>\n</div>"
     },
     "metadata": {},
     "execution_count": 197
    }
   ],
   "source": [
    "print(manhattan_venues.shape)\n",
    "Toronto_venues.head()"
   ]
  },
  {
   "cell_type": "code",
   "execution_count": 198,
   "metadata": {},
   "outputs": [
    {
     "output_type": "execute_result",
     "data": {
      "text/plain": [
       "                                                    Neighborhood Latitude  \\\n",
       "Neighborhood                                                                \n",
       "Berczy Park                                                            55   \n",
       "Brockton, Parkdale Village, Exhibition Place                           23   \n",
       "Business reply mail Processing Centre, South Ce...                     16   \n",
       "CN Tower, King and Spadina, Railway Lands, Harb...                     16   \n",
       "Central Bay Street                                                     68   \n",
       "Christie                                                               16   \n",
       "Church and Wellesley                                                   75   \n",
       "Commerce Court, Victoria Hotel                                        100   \n",
       "Davisville                                                             33   \n",
       "Davisville North                                                        9   \n",
       "Dufferin, Dovercourt Village                                           13   \n",
       "First Canadian Place, Underground city                                100   \n",
       "Forest Hill North & West, Forest Hill Road Park                         4   \n",
       "Garden District, Ryerson                                              100   \n",
       "Harbourfront East, Union Station, Toronto Islands                     100   \n",
       "High Park, The Junction South                                          25   \n",
       "India Bazaar, The Beaches West                                         19   \n",
       "Kensington Market, Chinatown, Grange Park                              74   \n",
       "Lawrence Park                                                           3   \n",
       "Little Portugal, Trinity                                               45   \n",
       "Moore Park, Summerhill East                                             2   \n",
       "North Toronto West,  Lawrence Park                                     18   \n",
       "Parkdale, Roncesvalles                                                 14   \n",
       "Queen's Park, Ontario Provincial Government                            33   \n",
       "Regent Park, Harbourfront                                              44   \n",
       "Richmond, Adelaide, King                                              100   \n",
       "Rosedale                                                                4   \n",
       "Roselawn                                                                2   \n",
       "Runnymede, Swansea                                                     33   \n",
       "St. James Town                                                         85   \n",
       "St. James Town, Cabbagetown                                            48   \n",
       "Stn A PO Boxes                                                         96   \n",
       "Studio District                                                        37   \n",
       "Summerhill West, Rathnelly, South Hill, Forest ...                     14   \n",
       "The Annex, North Midtown, Yorkville                                    19   \n",
       "The Beaches                                                             4   \n",
       "The Danforth West, Riverdale                                           43   \n",
       "Toronto Dominion Centre, Design Exchange                              100   \n",
       "University of Toronto, Harbord                                         34   \n",
       "\n",
       "                                                    Neighborhood Longitude  \\\n",
       "Neighborhood                                                                 \n",
       "Berczy Park                                                             55   \n",
       "Brockton, Parkdale Village, Exhibition Place                            23   \n",
       "Business reply mail Processing Centre, South Ce...                      16   \n",
       "CN Tower, King and Spadina, Railway Lands, Harb...                      16   \n",
       "Central Bay Street                                                      68   \n",
       "Christie                                                                16   \n",
       "Church and Wellesley                                                    75   \n",
       "Commerce Court, Victoria Hotel                                         100   \n",
       "Davisville                                                              33   \n",
       "Davisville North                                                         9   \n",
       "Dufferin, Dovercourt Village                                            13   \n",
       "First Canadian Place, Underground city                                 100   \n",
       "Forest Hill North & West, Forest Hill Road Park                          4   \n",
       "Garden District, Ryerson                                               100   \n",
       "Harbourfront East, Union Station, Toronto Islands                      100   \n",
       "High Park, The Junction South                                           25   \n",
       "India Bazaar, The Beaches West                                          19   \n",
       "Kensington Market, Chinatown, Grange Park                               74   \n",
       "Lawrence Park                                                            3   \n",
       "Little Portugal, Trinity                                                45   \n",
       "Moore Park, Summerhill East                                              2   \n",
       "North Toronto West,  Lawrence Park                                      18   \n",
       "Parkdale, Roncesvalles                                                  14   \n",
       "Queen's Park, Ontario Provincial Government                             33   \n",
       "Regent Park, Harbourfront                                               44   \n",
       "Richmond, Adelaide, King                                               100   \n",
       "Rosedale                                                                 4   \n",
       "Roselawn                                                                 2   \n",
       "Runnymede, Swansea                                                      33   \n",
       "St. James Town                                                          85   \n",
       "St. James Town, Cabbagetown                                             48   \n",
       "Stn A PO Boxes                                                          96   \n",
       "Studio District                                                         37   \n",
       "Summerhill West, Rathnelly, South Hill, Forest ...                      14   \n",
       "The Annex, North Midtown, Yorkville                                     19   \n",
       "The Beaches                                                              4   \n",
       "The Danforth West, Riverdale                                            43   \n",
       "Toronto Dominion Centre, Design Exchange                               100   \n",
       "University of Toronto, Harbord                                          34   \n",
       "\n",
       "                                                    Venue  Venue Latitude  \\\n",
       "Neighborhood                                                                \n",
       "Berczy Park                                            55              55   \n",
       "Brockton, Parkdale Village, Exhibition Place           23              23   \n",
       "Business reply mail Processing Centre, South Ce...     16              16   \n",
       "CN Tower, King and Spadina, Railway Lands, Harb...     16              16   \n",
       "Central Bay Street                                     68              68   \n",
       "Christie                                               16              16   \n",
       "Church and Wellesley                                   75              75   \n",
       "Commerce Court, Victoria Hotel                        100             100   \n",
       "Davisville                                             33              33   \n",
       "Davisville North                                        9               9   \n",
       "Dufferin, Dovercourt Village                           13              13   \n",
       "First Canadian Place, Underground city                100             100   \n",
       "Forest Hill North & West, Forest Hill Road Park         4               4   \n",
       "Garden District, Ryerson                              100             100   \n",
       "Harbourfront East, Union Station, Toronto Islands     100             100   \n",
       "High Park, The Junction South                          25              25   \n",
       "India Bazaar, The Beaches West                         19              19   \n",
       "Kensington Market, Chinatown, Grange Park              74              74   \n",
       "Lawrence Park                                           3               3   \n",
       "Little Portugal, Trinity                               45              45   \n",
       "Moore Park, Summerhill East                             2               2   \n",
       "North Toronto West,  Lawrence Park                     18              18   \n",
       "Parkdale, Roncesvalles                                 14              14   \n",
       "Queen's Park, Ontario Provincial Government            33              33   \n",
       "Regent Park, Harbourfront                              44              44   \n",
       "Richmond, Adelaide, King                              100             100   \n",
       "Rosedale                                                4               4   \n",
       "Roselawn                                                2               2   \n",
       "Runnymede, Swansea                                     33              33   \n",
       "St. James Town                                         85              85   \n",
       "St. James Town, Cabbagetown                            48              48   \n",
       "Stn A PO Boxes                                         96              96   \n",
       "Studio District                                        37              37   \n",
       "Summerhill West, Rathnelly, South Hill, Forest ...     14              14   \n",
       "The Annex, North Midtown, Yorkville                    19              19   \n",
       "The Beaches                                             4               4   \n",
       "The Danforth West, Riverdale                           43              43   \n",
       "Toronto Dominion Centre, Design Exchange              100             100   \n",
       "University of Toronto, Harbord                         34              34   \n",
       "\n",
       "                                                    Venue Longitude  \\\n",
       "Neighborhood                                                          \n",
       "Berczy Park                                                      55   \n",
       "Brockton, Parkdale Village, Exhibition Place                     23   \n",
       "Business reply mail Processing Centre, South Ce...               16   \n",
       "CN Tower, King and Spadina, Railway Lands, Harb...               16   \n",
       "Central Bay Street                                               68   \n",
       "Christie                                                         16   \n",
       "Church and Wellesley                                             75   \n",
       "Commerce Court, Victoria Hotel                                  100   \n",
       "Davisville                                                       33   \n",
       "Davisville North                                                  9   \n",
       "Dufferin, Dovercourt Village                                     13   \n",
       "First Canadian Place, Underground city                          100   \n",
       "Forest Hill North & West, Forest Hill Road Park                   4   \n",
       "Garden District, Ryerson                                        100   \n",
       "Harbourfront East, Union Station, Toronto Islands               100   \n",
       "High Park, The Junction South                                    25   \n",
       "India Bazaar, The Beaches West                                   19   \n",
       "Kensington Market, Chinatown, Grange Park                        74   \n",
       "Lawrence Park                                                     3   \n",
       "Little Portugal, Trinity                                         45   \n",
       "Moore Park, Summerhill East                                       2   \n",
       "North Toronto West,  Lawrence Park                               18   \n",
       "Parkdale, Roncesvalles                                           14   \n",
       "Queen's Park, Ontario Provincial Government                      33   \n",
       "Regent Park, Harbourfront                                        44   \n",
       "Richmond, Adelaide, King                                        100   \n",
       "Rosedale                                                          4   \n",
       "Roselawn                                                          2   \n",
       "Runnymede, Swansea                                               33   \n",
       "St. James Town                                                   85   \n",
       "St. James Town, Cabbagetown                                      48   \n",
       "Stn A PO Boxes                                                   96   \n",
       "Studio District                                                  37   \n",
       "Summerhill West, Rathnelly, South Hill, Forest ...               14   \n",
       "The Annex, North Midtown, Yorkville                              19   \n",
       "The Beaches                                                       4   \n",
       "The Danforth West, Riverdale                                     43   \n",
       "Toronto Dominion Centre, Design Exchange                        100   \n",
       "University of Toronto, Harbord                                   34   \n",
       "\n",
       "                                                    Venue Category  \n",
       "Neighborhood                                                        \n",
       "Berczy Park                                                     55  \n",
       "Brockton, Parkdale Village, Exhibition Place                    23  \n",
       "Business reply mail Processing Centre, South Ce...              16  \n",
       "CN Tower, King and Spadina, Railway Lands, Harb...              16  \n",
       "Central Bay Street                                              68  \n",
       "Christie                                                        16  \n",
       "Church and Wellesley                                            75  \n",
       "Commerce Court, Victoria Hotel                                 100  \n",
       "Davisville                                                      33  \n",
       "Davisville North                                                 9  \n",
       "Dufferin, Dovercourt Village                                    13  \n",
       "First Canadian Place, Underground city                         100  \n",
       "Forest Hill North & West, Forest Hill Road Park                  4  \n",
       "Garden District, Ryerson                                       100  \n",
       "Harbourfront East, Union Station, Toronto Islands              100  \n",
       "High Park, The Junction South                                   25  \n",
       "India Bazaar, The Beaches West                                  19  \n",
       "Kensington Market, Chinatown, Grange Park                       74  \n",
       "Lawrence Park                                                    3  \n",
       "Little Portugal, Trinity                                        45  \n",
       "Moore Park, Summerhill East                                      2  \n",
       "North Toronto West,  Lawrence Park                              18  \n",
       "Parkdale, Roncesvalles                                          14  \n",
       "Queen's Park, Ontario Provincial Government                     33  \n",
       "Regent Park, Harbourfront                                       44  \n",
       "Richmond, Adelaide, King                                       100  \n",
       "Rosedale                                                         4  \n",
       "Roselawn                                                         2  \n",
       "Runnymede, Swansea                                              33  \n",
       "St. James Town                                                  85  \n",
       "St. James Town, Cabbagetown                                     48  \n",
       "Stn A PO Boxes                                                  96  \n",
       "Studio District                                                 37  \n",
       "Summerhill West, Rathnelly, South Hill, Forest ...              14  \n",
       "The Annex, North Midtown, Yorkville                             19  \n",
       "The Beaches                                                      4  \n",
       "The Danforth West, Riverdale                                    43  \n",
       "Toronto Dominion Centre, Design Exchange                       100  \n",
       "University of Toronto, Harbord                                  34  "
      ],
      "text/html": "<div>\n<style scoped>\n    .dataframe tbody tr th:only-of-type {\n        vertical-align: middle;\n    }\n\n    .dataframe tbody tr th {\n        vertical-align: top;\n    }\n\n    .dataframe thead th {\n        text-align: right;\n    }\n</style>\n<table border=\"1\" class=\"dataframe\">\n  <thead>\n    <tr style=\"text-align: right;\">\n      <th></th>\n      <th>Neighborhood Latitude</th>\n      <th>Neighborhood Longitude</th>\n      <th>Venue</th>\n      <th>Venue Latitude</th>\n      <th>Venue Longitude</th>\n      <th>Venue Category</th>\n    </tr>\n    <tr>\n      <th>Neighborhood</th>\n      <th></th>\n      <th></th>\n      <th></th>\n      <th></th>\n      <th></th>\n      <th></th>\n    </tr>\n  </thead>\n  <tbody>\n    <tr>\n      <th>Berczy Park</th>\n      <td>55</td>\n      <td>55</td>\n      <td>55</td>\n      <td>55</td>\n      <td>55</td>\n      <td>55</td>\n    </tr>\n    <tr>\n      <th>Brockton, Parkdale Village, Exhibition Place</th>\n      <td>23</td>\n      <td>23</td>\n      <td>23</td>\n      <td>23</td>\n      <td>23</td>\n      <td>23</td>\n    </tr>\n    <tr>\n      <th>Business reply mail Processing Centre, South Central Letter Processing Plant Toronto</th>\n      <td>16</td>\n      <td>16</td>\n      <td>16</td>\n      <td>16</td>\n      <td>16</td>\n      <td>16</td>\n    </tr>\n    <tr>\n      <th>CN Tower, King and Spadina, Railway Lands, Harbourfront West, Bathurst Quay, South Niagara, Island airport</th>\n      <td>16</td>\n      <td>16</td>\n      <td>16</td>\n      <td>16</td>\n      <td>16</td>\n      <td>16</td>\n    </tr>\n    <tr>\n      <th>Central Bay Street</th>\n      <td>68</td>\n      <td>68</td>\n      <td>68</td>\n      <td>68</td>\n      <td>68</td>\n      <td>68</td>\n    </tr>\n    <tr>\n      <th>Christie</th>\n      <td>16</td>\n      <td>16</td>\n      <td>16</td>\n      <td>16</td>\n      <td>16</td>\n      <td>16</td>\n    </tr>\n    <tr>\n      <th>Church and Wellesley</th>\n      <td>75</td>\n      <td>75</td>\n      <td>75</td>\n      <td>75</td>\n      <td>75</td>\n      <td>75</td>\n    </tr>\n    <tr>\n      <th>Commerce Court, Victoria Hotel</th>\n      <td>100</td>\n      <td>100</td>\n      <td>100</td>\n      <td>100</td>\n      <td>100</td>\n      <td>100</td>\n    </tr>\n    <tr>\n      <th>Davisville</th>\n      <td>33</td>\n      <td>33</td>\n      <td>33</td>\n      <td>33</td>\n      <td>33</td>\n      <td>33</td>\n    </tr>\n    <tr>\n      <th>Davisville North</th>\n      <td>9</td>\n      <td>9</td>\n      <td>9</td>\n      <td>9</td>\n      <td>9</td>\n      <td>9</td>\n    </tr>\n    <tr>\n      <th>Dufferin, Dovercourt Village</th>\n      <td>13</td>\n      <td>13</td>\n      <td>13</td>\n      <td>13</td>\n      <td>13</td>\n      <td>13</td>\n    </tr>\n    <tr>\n      <th>First Canadian Place, Underground city</th>\n      <td>100</td>\n      <td>100</td>\n      <td>100</td>\n      <td>100</td>\n      <td>100</td>\n      <td>100</td>\n    </tr>\n    <tr>\n      <th>Forest Hill North &amp; West, Forest Hill Road Park</th>\n      <td>4</td>\n      <td>4</td>\n      <td>4</td>\n      <td>4</td>\n      <td>4</td>\n      <td>4</td>\n    </tr>\n    <tr>\n      <th>Garden District, Ryerson</th>\n      <td>100</td>\n      <td>100</td>\n      <td>100</td>\n      <td>100</td>\n      <td>100</td>\n      <td>100</td>\n    </tr>\n    <tr>\n      <th>Harbourfront East, Union Station, Toronto Islands</th>\n      <td>100</td>\n      <td>100</td>\n      <td>100</td>\n      <td>100</td>\n      <td>100</td>\n      <td>100</td>\n    </tr>\n    <tr>\n      <th>High Park, The Junction South</th>\n      <td>25</td>\n      <td>25</td>\n      <td>25</td>\n      <td>25</td>\n      <td>25</td>\n      <td>25</td>\n    </tr>\n    <tr>\n      <th>India Bazaar, The Beaches West</th>\n      <td>19</td>\n      <td>19</td>\n      <td>19</td>\n      <td>19</td>\n      <td>19</td>\n      <td>19</td>\n    </tr>\n    <tr>\n      <th>Kensington Market, Chinatown, Grange Park</th>\n      <td>74</td>\n      <td>74</td>\n      <td>74</td>\n      <td>74</td>\n      <td>74</td>\n      <td>74</td>\n    </tr>\n    <tr>\n      <th>Lawrence Park</th>\n      <td>3</td>\n      <td>3</td>\n      <td>3</td>\n      <td>3</td>\n      <td>3</td>\n      <td>3</td>\n    </tr>\n    <tr>\n      <th>Little Portugal, Trinity</th>\n      <td>45</td>\n      <td>45</td>\n      <td>45</td>\n      <td>45</td>\n      <td>45</td>\n      <td>45</td>\n    </tr>\n    <tr>\n      <th>Moore Park, Summerhill East</th>\n      <td>2</td>\n      <td>2</td>\n      <td>2</td>\n      <td>2</td>\n      <td>2</td>\n      <td>2</td>\n    </tr>\n    <tr>\n      <th>North Toronto West,  Lawrence Park</th>\n      <td>18</td>\n      <td>18</td>\n      <td>18</td>\n      <td>18</td>\n      <td>18</td>\n      <td>18</td>\n    </tr>\n    <tr>\n      <th>Parkdale, Roncesvalles</th>\n      <td>14</td>\n      <td>14</td>\n      <td>14</td>\n      <td>14</td>\n      <td>14</td>\n      <td>14</td>\n    </tr>\n    <tr>\n      <th>Queen's Park, Ontario Provincial Government</th>\n      <td>33</td>\n      <td>33</td>\n      <td>33</td>\n      <td>33</td>\n      <td>33</td>\n      <td>33</td>\n    </tr>\n    <tr>\n      <th>Regent Park, Harbourfront</th>\n      <td>44</td>\n      <td>44</td>\n      <td>44</td>\n      <td>44</td>\n      <td>44</td>\n      <td>44</td>\n    </tr>\n    <tr>\n      <th>Richmond, Adelaide, King</th>\n      <td>100</td>\n      <td>100</td>\n      <td>100</td>\n      <td>100</td>\n      <td>100</td>\n      <td>100</td>\n    </tr>\n    <tr>\n      <th>Rosedale</th>\n      <td>4</td>\n      <td>4</td>\n      <td>4</td>\n      <td>4</td>\n      <td>4</td>\n      <td>4</td>\n    </tr>\n    <tr>\n      <th>Roselawn</th>\n      <td>2</td>\n      <td>2</td>\n      <td>2</td>\n      <td>2</td>\n      <td>2</td>\n      <td>2</td>\n    </tr>\n    <tr>\n      <th>Runnymede, Swansea</th>\n      <td>33</td>\n      <td>33</td>\n      <td>33</td>\n      <td>33</td>\n      <td>33</td>\n      <td>33</td>\n    </tr>\n    <tr>\n      <th>St. James Town</th>\n      <td>85</td>\n      <td>85</td>\n      <td>85</td>\n      <td>85</td>\n      <td>85</td>\n      <td>85</td>\n    </tr>\n    <tr>\n      <th>St. James Town, Cabbagetown</th>\n      <td>48</td>\n      <td>48</td>\n      <td>48</td>\n      <td>48</td>\n      <td>48</td>\n      <td>48</td>\n    </tr>\n    <tr>\n      <th>Stn A PO Boxes</th>\n      <td>96</td>\n      <td>96</td>\n      <td>96</td>\n      <td>96</td>\n      <td>96</td>\n      <td>96</td>\n    </tr>\n    <tr>\n      <th>Studio District</th>\n      <td>37</td>\n      <td>37</td>\n      <td>37</td>\n      <td>37</td>\n      <td>37</td>\n      <td>37</td>\n    </tr>\n    <tr>\n      <th>Summerhill West, Rathnelly, South Hill, Forest Hill SE, Deer Park</th>\n      <td>14</td>\n      <td>14</td>\n      <td>14</td>\n      <td>14</td>\n      <td>14</td>\n      <td>14</td>\n    </tr>\n    <tr>\n      <th>The Annex, North Midtown, Yorkville</th>\n      <td>19</td>\n      <td>19</td>\n      <td>19</td>\n      <td>19</td>\n      <td>19</td>\n      <td>19</td>\n    </tr>\n    <tr>\n      <th>The Beaches</th>\n      <td>4</td>\n      <td>4</td>\n      <td>4</td>\n      <td>4</td>\n      <td>4</td>\n      <td>4</td>\n    </tr>\n    <tr>\n      <th>The Danforth West, Riverdale</th>\n      <td>43</td>\n      <td>43</td>\n      <td>43</td>\n      <td>43</td>\n      <td>43</td>\n      <td>43</td>\n    </tr>\n    <tr>\n      <th>Toronto Dominion Centre, Design Exchange</th>\n      <td>100</td>\n      <td>100</td>\n      <td>100</td>\n      <td>100</td>\n      <td>100</td>\n      <td>100</td>\n    </tr>\n    <tr>\n      <th>University of Toronto, Harbord</th>\n      <td>34</td>\n      <td>34</td>\n      <td>34</td>\n      <td>34</td>\n      <td>34</td>\n      <td>34</td>\n    </tr>\n  </tbody>\n</table>\n</div>"
     },
     "metadata": {},
     "execution_count": 198
    }
   ],
   "source": [
    "#### Count of venues in each Neighborhood of Toronto\n",
    "Toronto_venues.groupby('Neighborhood').count()"
   ]
  },
  {
   "cell_type": "code",
   "execution_count": 199,
   "metadata": {},
   "outputs": [
    {
     "output_type": "stream",
     "name": "stdout",
     "text": [
      "There are 237 uniques categories.\n"
     ]
    }
   ],
   "source": [
    "# Let's find out how many unique categories can be curated from all the returned venues\n",
    "\n",
    "print('There are {} uniques categories.'.format(len(Toronto_venues['Venue Category'].unique())))"
   ]
  },
  {
   "source": [
    "### 3.3 Analyze Each Neighborhood"
   ],
   "cell_type": "markdown",
   "metadata": {}
  },
  {
   "cell_type": "code",
   "execution_count": 200,
   "metadata": {},
   "outputs": [
    {
     "output_type": "execute_result",
     "data": {
      "text/plain": [
       "   Yoga Studio  Afghan Restaurant  Airport  Airport Food Court  Airport Gate  \\\n",
       "0            0                  0        0                   0             0   \n",
       "1            0                  0        0                   0             0   \n",
       "2            0                  0        0                   0             0   \n",
       "3            0                  0        0                   0             0   \n",
       "4            0                  0        0                   0             0   \n",
       "\n",
       "   Airport Lounge  Airport Service  Airport Terminal  American Restaurant  \\\n",
       "0               0                0                 0                    0   \n",
       "1               0                0                 0                    0   \n",
       "2               0                0                 0                    0   \n",
       "3               0                0                 0                    0   \n",
       "4               0                0                 0                    0   \n",
       "\n",
       "   Antique Shop  ...  Theater  Theme Restaurant  Toy / Game Store  Trail  \\\n",
       "0             0  ...        0                 0                 0      0   \n",
       "1             0  ...        0                 0                 0      0   \n",
       "2             0  ...        0                 0                 0      0   \n",
       "3             0  ...        0                 0                 0      0   \n",
       "4             0  ...        0                 0                 0      0   \n",
       "\n",
       "   Train Station  Vegetarian / Vegan Restaurant  Video Game Store  \\\n",
       "0              0                              0                 0   \n",
       "1              0                              0                 0   \n",
       "2              0                              0                 0   \n",
       "3              0                              0                 0   \n",
       "4              0                              0                 0   \n",
       "\n",
       "   Vietnamese Restaurant  Wine Bar  Women's Store  \n",
       "0                      0         0              0  \n",
       "1                      0         0              0  \n",
       "2                      0         0              0  \n",
       "3                      0         0              0  \n",
       "4                      0         0              0  \n",
       "\n",
       "[5 rows x 237 columns]"
      ],
      "text/html": "<div>\n<style scoped>\n    .dataframe tbody tr th:only-of-type {\n        vertical-align: middle;\n    }\n\n    .dataframe tbody tr th {\n        vertical-align: top;\n    }\n\n    .dataframe thead th {\n        text-align: right;\n    }\n</style>\n<table border=\"1\" class=\"dataframe\">\n  <thead>\n    <tr style=\"text-align: right;\">\n      <th></th>\n      <th>Yoga Studio</th>\n      <th>Afghan Restaurant</th>\n      <th>Airport</th>\n      <th>Airport Food Court</th>\n      <th>Airport Gate</th>\n      <th>Airport Lounge</th>\n      <th>Airport Service</th>\n      <th>Airport Terminal</th>\n      <th>American Restaurant</th>\n      <th>Antique Shop</th>\n      <th>...</th>\n      <th>Theater</th>\n      <th>Theme Restaurant</th>\n      <th>Toy / Game Store</th>\n      <th>Trail</th>\n      <th>Train Station</th>\n      <th>Vegetarian / Vegan Restaurant</th>\n      <th>Video Game Store</th>\n      <th>Vietnamese Restaurant</th>\n      <th>Wine Bar</th>\n      <th>Women's Store</th>\n    </tr>\n  </thead>\n  <tbody>\n    <tr>\n      <th>0</th>\n      <td>0</td>\n      <td>0</td>\n      <td>0</td>\n      <td>0</td>\n      <td>0</td>\n      <td>0</td>\n      <td>0</td>\n      <td>0</td>\n      <td>0</td>\n      <td>0</td>\n      <td>...</td>\n      <td>0</td>\n      <td>0</td>\n      <td>0</td>\n      <td>0</td>\n      <td>0</td>\n      <td>0</td>\n      <td>0</td>\n      <td>0</td>\n      <td>0</td>\n      <td>0</td>\n    </tr>\n    <tr>\n      <th>1</th>\n      <td>0</td>\n      <td>0</td>\n      <td>0</td>\n      <td>0</td>\n      <td>0</td>\n      <td>0</td>\n      <td>0</td>\n      <td>0</td>\n      <td>0</td>\n      <td>0</td>\n      <td>...</td>\n      <td>0</td>\n      <td>0</td>\n      <td>0</td>\n      <td>0</td>\n      <td>0</td>\n      <td>0</td>\n      <td>0</td>\n      <td>0</td>\n      <td>0</td>\n      <td>0</td>\n    </tr>\n    <tr>\n      <th>2</th>\n      <td>0</td>\n      <td>0</td>\n      <td>0</td>\n      <td>0</td>\n      <td>0</td>\n      <td>0</td>\n      <td>0</td>\n      <td>0</td>\n      <td>0</td>\n      <td>0</td>\n      <td>...</td>\n      <td>0</td>\n      <td>0</td>\n      <td>0</td>\n      <td>0</td>\n      <td>0</td>\n      <td>0</td>\n      <td>0</td>\n      <td>0</td>\n      <td>0</td>\n      <td>0</td>\n    </tr>\n    <tr>\n      <th>3</th>\n      <td>0</td>\n      <td>0</td>\n      <td>0</td>\n      <td>0</td>\n      <td>0</td>\n      <td>0</td>\n      <td>0</td>\n      <td>0</td>\n      <td>0</td>\n      <td>0</td>\n      <td>...</td>\n      <td>0</td>\n      <td>0</td>\n      <td>0</td>\n      <td>0</td>\n      <td>0</td>\n      <td>0</td>\n      <td>0</td>\n      <td>0</td>\n      <td>0</td>\n      <td>0</td>\n    </tr>\n    <tr>\n      <th>4</th>\n      <td>0</td>\n      <td>0</td>\n      <td>0</td>\n      <td>0</td>\n      <td>0</td>\n      <td>0</td>\n      <td>0</td>\n      <td>0</td>\n      <td>0</td>\n      <td>0</td>\n      <td>...</td>\n      <td>0</td>\n      <td>0</td>\n      <td>0</td>\n      <td>0</td>\n      <td>0</td>\n      <td>0</td>\n      <td>0</td>\n      <td>0</td>\n      <td>0</td>\n      <td>0</td>\n    </tr>\n  </tbody>\n</table>\n<p>5 rows × 237 columns</p>\n</div>"
     },
     "metadata": {},
     "execution_count": 200
    }
   ],
   "source": [
    "# one hot encoding\n",
    "Toronto_onehot = pd.get_dummies(Toronto_venues[['Venue Category']], prefix=\"\", prefix_sep=\"\")\n",
    "\n",
    "# add neighborhood column back to dataframe\n",
    "Toronto_onehot['Neighborhood'] = Toronto_venues['Neighborhood'] \n",
    "\n",
    "# move neighborhood column to the first column\n",
    "fixed_columns = [Toronto_onehot.columns[-1]] + list(Toronto_onehot.columns[:-1])\n",
    "Toronto_onehot = Toronto_onehot[fixed_columns]\n",
    "\n",
    "Toronto_onehot.head()"
   ]
  },
  {
   "cell_type": "code",
   "execution_count": 201,
   "metadata": {},
   "outputs": [
    {
     "output_type": "execute_result",
     "data": {
      "text/plain": [
       "(1624, 237)"
      ]
     },
     "metadata": {},
     "execution_count": 201
    }
   ],
   "source": [
    "# Examine the new dataframe size.\n",
    "Toronto_onehot.shape"
   ]
  },
  {
   "source": [
    "#### Group rows by neighborhood and by taking the mean of the frequency of occurrence of each category"
   ],
   "cell_type": "markdown",
   "metadata": {}
  },
  {
   "cell_type": "code",
   "execution_count": 202,
   "metadata": {},
   "outputs": [
    {
     "output_type": "execute_result",
     "data": {
      "text/plain": [
       "                                        Neighborhood  Yoga Studio  \\\n",
       "0                                        Berczy Park     0.000000   \n",
       "1       Brockton, Parkdale Village, Exhibition Place     0.000000   \n",
       "2  Business reply mail Processing Centre, South C...     0.000000   \n",
       "3  CN Tower, King and Spadina, Railway Lands, Har...     0.000000   \n",
       "4                                 Central Bay Street     0.014706   \n",
       "\n",
       "   Afghan Restaurant  Airport  Airport Food Court  Airport Gate  \\\n",
       "0                0.0   0.0000              0.0000        0.0000   \n",
       "1                0.0   0.0000              0.0000        0.0000   \n",
       "2                0.0   0.0000              0.0000        0.0000   \n",
       "3                0.0   0.0625              0.0625        0.0625   \n",
       "4                0.0   0.0000              0.0000        0.0000   \n",
       "\n",
       "   Airport Lounge  Airport Service  Airport Terminal  American Restaurant  \\\n",
       "0           0.000            0.000            0.0000                  0.0   \n",
       "1           0.000            0.000            0.0000                  0.0   \n",
       "2           0.000            0.000            0.0000                  0.0   \n",
       "3           0.125            0.125            0.0625                  0.0   \n",
       "4           0.000            0.000            0.0000                  0.0   \n",
       "\n",
       "   ...  Theater  Theme Restaurant  Toy / Game Store  Trail  Train Station  \\\n",
       "0  ...      0.0               0.0               0.0    0.0            0.0   \n",
       "1  ...      0.0               0.0               0.0    0.0            0.0   \n",
       "2  ...      0.0               0.0               0.0    0.0            0.0   \n",
       "3  ...      0.0               0.0               0.0    0.0            0.0   \n",
       "4  ...      0.0               0.0               0.0    0.0            0.0   \n",
       "\n",
       "   Vegetarian / Vegan Restaurant  Video Game Store  Vietnamese Restaurant  \\\n",
       "0                       0.018182               0.0                    0.0   \n",
       "1                       0.000000               0.0                    0.0   \n",
       "2                       0.000000               0.0                    0.0   \n",
       "3                       0.000000               0.0                    0.0   \n",
       "4                       0.014706               0.0                    0.0   \n",
       "\n",
       "   Wine Bar  Women's Store  \n",
       "0  0.000000            0.0  \n",
       "1  0.000000            0.0  \n",
       "2  0.000000            0.0  \n",
       "3  0.000000            0.0  \n",
       "4  0.014706            0.0  \n",
       "\n",
       "[5 rows x 237 columns]"
      ],
      "text/html": "<div>\n<style scoped>\n    .dataframe tbody tr th:only-of-type {\n        vertical-align: middle;\n    }\n\n    .dataframe tbody tr th {\n        vertical-align: top;\n    }\n\n    .dataframe thead th {\n        text-align: right;\n    }\n</style>\n<table border=\"1\" class=\"dataframe\">\n  <thead>\n    <tr style=\"text-align: right;\">\n      <th></th>\n      <th>Neighborhood</th>\n      <th>Yoga Studio</th>\n      <th>Afghan Restaurant</th>\n      <th>Airport</th>\n      <th>Airport Food Court</th>\n      <th>Airport Gate</th>\n      <th>Airport Lounge</th>\n      <th>Airport Service</th>\n      <th>Airport Terminal</th>\n      <th>American Restaurant</th>\n      <th>...</th>\n      <th>Theater</th>\n      <th>Theme Restaurant</th>\n      <th>Toy / Game Store</th>\n      <th>Trail</th>\n      <th>Train Station</th>\n      <th>Vegetarian / Vegan Restaurant</th>\n      <th>Video Game Store</th>\n      <th>Vietnamese Restaurant</th>\n      <th>Wine Bar</th>\n      <th>Women's Store</th>\n    </tr>\n  </thead>\n  <tbody>\n    <tr>\n      <th>0</th>\n      <td>Berczy Park</td>\n      <td>0.000000</td>\n      <td>0.0</td>\n      <td>0.0000</td>\n      <td>0.0000</td>\n      <td>0.0000</td>\n      <td>0.000</td>\n      <td>0.000</td>\n      <td>0.0000</td>\n      <td>0.0</td>\n      <td>...</td>\n      <td>0.0</td>\n      <td>0.0</td>\n      <td>0.0</td>\n      <td>0.0</td>\n      <td>0.0</td>\n      <td>0.018182</td>\n      <td>0.0</td>\n      <td>0.0</td>\n      <td>0.000000</td>\n      <td>0.0</td>\n    </tr>\n    <tr>\n      <th>1</th>\n      <td>Brockton, Parkdale Village, Exhibition Place</td>\n      <td>0.000000</td>\n      <td>0.0</td>\n      <td>0.0000</td>\n      <td>0.0000</td>\n      <td>0.0000</td>\n      <td>0.000</td>\n      <td>0.000</td>\n      <td>0.0000</td>\n      <td>0.0</td>\n      <td>...</td>\n      <td>0.0</td>\n      <td>0.0</td>\n      <td>0.0</td>\n      <td>0.0</td>\n      <td>0.0</td>\n      <td>0.000000</td>\n      <td>0.0</td>\n      <td>0.0</td>\n      <td>0.000000</td>\n      <td>0.0</td>\n    </tr>\n    <tr>\n      <th>2</th>\n      <td>Business reply mail Processing Centre, South C...</td>\n      <td>0.000000</td>\n      <td>0.0</td>\n      <td>0.0000</td>\n      <td>0.0000</td>\n      <td>0.0000</td>\n      <td>0.000</td>\n      <td>0.000</td>\n      <td>0.0000</td>\n      <td>0.0</td>\n      <td>...</td>\n      <td>0.0</td>\n      <td>0.0</td>\n      <td>0.0</td>\n      <td>0.0</td>\n      <td>0.0</td>\n      <td>0.000000</td>\n      <td>0.0</td>\n      <td>0.0</td>\n      <td>0.000000</td>\n      <td>0.0</td>\n    </tr>\n    <tr>\n      <th>3</th>\n      <td>CN Tower, King and Spadina, Railway Lands, Har...</td>\n      <td>0.000000</td>\n      <td>0.0</td>\n      <td>0.0625</td>\n      <td>0.0625</td>\n      <td>0.0625</td>\n      <td>0.125</td>\n      <td>0.125</td>\n      <td>0.0625</td>\n      <td>0.0</td>\n      <td>...</td>\n      <td>0.0</td>\n      <td>0.0</td>\n      <td>0.0</td>\n      <td>0.0</td>\n      <td>0.0</td>\n      <td>0.000000</td>\n      <td>0.0</td>\n      <td>0.0</td>\n      <td>0.000000</td>\n      <td>0.0</td>\n    </tr>\n    <tr>\n      <th>4</th>\n      <td>Central Bay Street</td>\n      <td>0.014706</td>\n      <td>0.0</td>\n      <td>0.0000</td>\n      <td>0.0000</td>\n      <td>0.0000</td>\n      <td>0.000</td>\n      <td>0.000</td>\n      <td>0.0000</td>\n      <td>0.0</td>\n      <td>...</td>\n      <td>0.0</td>\n      <td>0.0</td>\n      <td>0.0</td>\n      <td>0.0</td>\n      <td>0.0</td>\n      <td>0.014706</td>\n      <td>0.0</td>\n      <td>0.0</td>\n      <td>0.014706</td>\n      <td>0.0</td>\n    </tr>\n  </tbody>\n</table>\n<p>5 rows × 237 columns</p>\n</div>"
     },
     "metadata": {},
     "execution_count": 202
    }
   ],
   "source": [
    "Toronto_grouped = Toronto_onehot.groupby('Neighborhood').mean().reset_index()\n",
    "Toronto_grouped.head()"
   ]
  },
  {
   "cell_type": "code",
   "execution_count": 203,
   "metadata": {},
   "outputs": [
    {
     "output_type": "execute_result",
     "data": {
      "text/plain": [
       "(39, 237)"
      ]
     },
     "metadata": {},
     "execution_count": 203
    }
   ],
   "source": [
    "Toronto_grouped.shape"
   ]
  },
  {
   "source": [
    "#### Let's print each neighborhood along with the top 5 most common venues"
   ],
   "cell_type": "markdown",
   "metadata": {}
  },
  {
   "cell_type": "code",
   "execution_count": 204,
   "metadata": {},
   "outputs": [
    {
     "output_type": "stream",
     "name": "stdout",
     "text": [
      "----Berczy Park----\n",
      "         venue  freq\n",
      "0  Coffee Shop  0.09\n",
      "1     Beer Bar  0.04\n",
      "2       Bakery  0.04\n",
      "3   Restaurant  0.04\n",
      "4  Cheese Shop  0.04\n",
      "\n",
      "\n",
      "----Brockton, Parkdale Village, Exhibition Place----\n",
      "            venue  freq\n",
      "0            Café  0.13\n",
      "1       Nightclub  0.09\n",
      "2     Coffee Shop  0.09\n",
      "3  Breakfast Spot  0.09\n",
      "4             Gym  0.04\n",
      "\n",
      "\n",
      "----Business reply mail Processing Centre, South Central Letter Processing Plant Toronto----\n",
      "                  venue  freq\n",
      "0           Pizza Place  0.06\n",
      "1      Recording Studio  0.06\n",
      "2            Skate Park  0.06\n",
      "3  Fast Food Restaurant  0.06\n",
      "4                  Park  0.06\n",
      "\n",
      "\n",
      "----CN Tower, King and Spadina, Railway Lands, Harbourfront West, Bathurst Quay, South Niagara, Island airport----\n",
      "                 venue  freq\n",
      "0       Airport Lounge  0.12\n",
      "1      Airport Service  0.12\n",
      "2  Rental Car Location  0.06\n",
      "3      Harbor / Marina  0.06\n",
      "4     Sculpture Garden  0.06\n",
      "\n",
      "\n",
      "----Central Bay Street----\n",
      "                venue  freq\n",
      "0         Coffee Shop  0.18\n",
      "1                Café  0.06\n",
      "2      Sandwich Place  0.04\n",
      "3  Italian Restaurant  0.04\n",
      "4     Thai Restaurant  0.03\n",
      "\n",
      "\n",
      "----Christie----\n",
      "                venue  freq\n",
      "0       Grocery Store  0.25\n",
      "1                Café  0.19\n",
      "2                Park  0.12\n",
      "3          Restaurant  0.06\n",
      "4  Italian Restaurant  0.06\n",
      "\n",
      "\n",
      "----Church and Wellesley----\n",
      "                 venue  freq\n",
      "0          Coffee Shop  0.09\n",
      "1  Japanese Restaurant  0.05\n",
      "2     Sushi Restaurant  0.05\n",
      "3              Gay Bar  0.05\n",
      "4           Restaurant  0.04\n",
      "\n",
      "\n",
      "----Commerce Court, Victoria Hotel----\n",
      "                 venue  freq\n",
      "0          Coffee Shop  0.13\n",
      "1           Restaurant  0.07\n",
      "2                Hotel  0.06\n",
      "3                 Café  0.06\n",
      "4  American Restaurant  0.04\n",
      "\n",
      "\n",
      "----Davisville----\n",
      "                venue  freq\n",
      "0      Sandwich Place  0.09\n",
      "1         Pizza Place  0.09\n",
      "2        Dessert Shop  0.09\n",
      "3                 Gym  0.06\n",
      "4  Italian Restaurant  0.06\n",
      "\n",
      "\n",
      "----Davisville North----\n",
      "               venue  freq\n",
      "0              Hotel  0.11\n",
      "1  Food & Drink Shop  0.11\n",
      "2     Sandwich Place  0.11\n",
      "3   Department Store  0.11\n",
      "4       Dance Studio  0.11\n",
      "\n",
      "\n",
      "----Dufferin, Dovercourt Village----\n",
      "                       venue  freq\n",
      "0                   Pharmacy  0.15\n",
      "1                     Bakery  0.15\n",
      "2                Music Venue  0.08\n",
      "3                       Café  0.08\n",
      "4  Middle Eastern Restaurant  0.08\n",
      "\n",
      "\n",
      "----First Canadian Place, Underground city----\n",
      "                 venue  freq\n",
      "0          Coffee Shop  0.10\n",
      "1                 Café  0.07\n",
      "2                Hotel  0.06\n",
      "3  American Restaurant  0.04\n",
      "4  Japanese Restaurant  0.04\n",
      "\n",
      "\n",
      "----Forest Hill North & West, Forest Hill Road Park----\n",
      "                             venue  freq\n",
      "0                             Park  0.25\n",
      "1                    Jewelry Store  0.25\n",
      "2                            Trail  0.25\n",
      "3                 Sushi Restaurant  0.25\n",
      "4  Molecular Gastronomy Restaurant  0.00\n",
      "\n",
      "\n",
      "----Garden District, Ryerson----\n",
      "             venue  freq\n",
      "0   Clothing Store  0.10\n",
      "1      Coffee Shop  0.09\n",
      "2             Café  0.04\n",
      "3   Cosmetics Shop  0.03\n",
      "4  Bubble Tea Shop  0.03\n",
      "\n",
      "\n",
      "----Harbourfront East, Union Station, Toronto Islands----\n",
      "                 venue  freq\n",
      "0          Coffee Shop  0.13\n",
      "1             Aquarium  0.05\n",
      "2                Hotel  0.04\n",
      "3                 Café  0.04\n",
      "4  Fried Chicken Joint  0.03\n",
      "\n",
      "\n",
      "----High Park, The Junction South----\n",
      "                venue  freq\n",
      "0                Café  0.08\n",
      "1  Mexican Restaurant  0.08\n",
      "2                 Bar  0.08\n",
      "3     Thai Restaurant  0.08\n",
      "4                Park  0.04\n",
      "\n",
      "\n",
      "----India Bazaar, The Beaches West----\n",
      "            venue  freq\n",
      "0            Park  0.11\n",
      "1       Pet Store  0.05\n",
      "2         Brewery  0.05\n",
      "3   Burrito Place  0.05\n",
      "4  Sandwich Place  0.05\n",
      "\n",
      "\n",
      "----Kensington Market, Chinatown, Grange Park----\n",
      "                           venue  freq\n",
      "0                    Coffee Shop  0.05\n",
      "1                            Bar  0.05\n",
      "2  Vegetarian / Vegan Restaurant  0.05\n",
      "3                           Café  0.05\n",
      "4             Mexican Restaurant  0.05\n",
      "\n",
      "\n",
      "----Lawrence Park----\n",
      "                             venue  freq\n",
      "0                             Park  0.33\n",
      "1                         Bus Line  0.33\n",
      "2                      Swim School  0.33\n",
      "3                      Yoga Studio  0.00\n",
      "4  Molecular Gastronomy Restaurant  0.00\n",
      "\n",
      "\n",
      "----Little Portugal, Trinity----\n",
      "                   venue  freq\n",
      "0                    Bar  0.09\n",
      "1            Coffee Shop  0.07\n",
      "2  Vietnamese Restaurant  0.04\n",
      "3                   Café  0.04\n",
      "4            Men's Store  0.04\n",
      "\n",
      "\n",
      "----Moore Park, Summerhill East----\n",
      "                 venue  freq\n",
      "0           Playground   0.5\n",
      "1                Trail   0.5\n",
      "2          Yoga Studio   0.0\n",
      "3  Monument / Landmark   0.0\n",
      "4               Lounge   0.0\n",
      "\n",
      "\n",
      "----North Toronto West,  Lawrence Park----\n",
      "                venue  freq\n",
      "0      Clothing Store  0.11\n",
      "1         Coffee Shop  0.11\n",
      "2         Yoga Studio  0.06\n",
      "3                Park  0.06\n",
      "4  Mexican Restaurant  0.06\n",
      "\n",
      "\n",
      "----Parkdale, Roncesvalles----\n",
      "                         venue  freq\n",
      "0                    Gift Shop  0.14\n",
      "1               Breakfast Spot  0.14\n",
      "2           Italian Restaurant  0.07\n",
      "3  Eastern European Restaurant  0.07\n",
      "4                          Bar  0.07\n",
      "\n",
      "\n",
      "----Queen's Park, Ontario Provincial Government----\n",
      "                venue  freq\n",
      "0         Coffee Shop  0.24\n",
      "1         Yoga Studio  0.03\n",
      "2            Beer Bar  0.03\n",
      "3  Chinese Restaurant  0.03\n",
      "4  College Auditorium  0.03\n",
      "\n",
      "\n",
      "----Regent Park, Harbourfront----\n",
      "         venue  freq\n",
      "0  Coffee Shop  0.18\n",
      "1         Park  0.07\n",
      "2          Pub  0.07\n",
      "3       Bakery  0.07\n",
      "4      Theater  0.05\n",
      "\n",
      "\n",
      "----Richmond, Adelaide, King----\n",
      "         venue  freq\n",
      "0  Coffee Shop  0.08\n",
      "1         Café  0.05\n",
      "2   Restaurant  0.04\n",
      "3        Hotel  0.04\n",
      "4          Bar  0.04\n",
      "\n",
      "\n",
      "----Rosedale----\n",
      "                 venue  freq\n",
      "0                 Park  0.50\n",
      "1           Playground  0.25\n",
      "2                Trail  0.25\n",
      "3  Monument / Landmark  0.00\n",
      "4               Lounge  0.00\n",
      "\n",
      "\n",
      "----Roselawn----\n",
      "                 venue  freq\n",
      "0          Music Venue   0.5\n",
      "1               Garden   0.5\n",
      "2          Yoga Studio   0.0\n",
      "3  Monument / Landmark   0.0\n",
      "4               Lounge   0.0\n",
      "\n",
      "\n",
      "----Runnymede, Swansea----\n",
      "              venue  freq\n",
      "0              Café  0.09\n",
      "1       Coffee Shop  0.09\n",
      "2  Sushi Restaurant  0.06\n",
      "3               Pub  0.06\n",
      "4       Pizza Place  0.06\n",
      "\n",
      "\n",
      "----St. James Town----\n",
      "          venue  freq\n",
      "0   Coffee Shop  0.07\n",
      "1          Café  0.06\n",
      "2    Restaurant  0.05\n",
      "3  Cocktail Bar  0.05\n",
      "4     Gastropub  0.04\n",
      "\n",
      "\n",
      "----St. James Town, Cabbagetown----\n",
      "         venue  freq\n",
      "0  Coffee Shop  0.08\n",
      "1         Café  0.06\n",
      "2  Pizza Place  0.06\n",
      "3   Restaurant  0.06\n",
      "4       Market  0.04\n",
      "\n",
      "\n",
      "----Stn A PO Boxes----\n",
      "                venue  freq\n",
      "0         Coffee Shop  0.10\n",
      "1  Italian Restaurant  0.04\n",
      "2  Seafood Restaurant  0.03\n",
      "3                Café  0.03\n",
      "4               Hotel  0.03\n",
      "\n",
      "\n",
      "----Studio District----\n",
      "                 venue  freq\n",
      "0          Coffee Shop  0.08\n",
      "1              Brewery  0.05\n",
      "2               Bakery  0.05\n",
      "3            Gastropub  0.05\n",
      "4  American Restaurant  0.05\n",
      "\n",
      "\n",
      "----Summerhill West, Rathnelly, South Hill, Forest Hill SE, Deer Park----\n",
      "                   venue  freq\n",
      "0            Coffee Shop  0.14\n",
      "1            Supermarket  0.07\n",
      "2    Fried Chicken Joint  0.07\n",
      "3           Liquor Store  0.07\n",
      "4  Vietnamese Restaurant  0.07\n",
      "\n",
      "\n",
      "----The Annex, North Midtown, Yorkville----\n",
      "                       venue  freq\n",
      "0             Sandwich Place  0.16\n",
      "1                       Café  0.16\n",
      "2                Coffee Shop  0.11\n",
      "3                       Park  0.05\n",
      "4  Middle Eastern Restaurant  0.05\n",
      "\n",
      "\n",
      "----The Beaches----\n",
      "               venue  freq\n",
      "0  Health Food Store  0.25\n",
      "1                Pub  0.25\n",
      "2              Trail  0.25\n",
      "3        Yoga Studio  0.00\n",
      "4        Men's Store  0.00\n",
      "\n",
      "\n",
      "----The Danforth West, Riverdale----\n",
      "                    venue  freq\n",
      "0        Greek Restaurant  0.16\n",
      "1             Coffee Shop  0.09\n",
      "2      Italian Restaurant  0.07\n",
      "3  Furniture / Home Store  0.05\n",
      "4          Ice Cream Shop  0.05\n",
      "\n",
      "\n",
      "----Toronto Dominion Centre, Design Exchange----\n",
      "                venue  freq\n",
      "0         Coffee Shop  0.14\n",
      "1               Hotel  0.08\n",
      "2                Café  0.05\n",
      "3          Restaurant  0.05\n",
      "4  Seafood Restaurant  0.03\n",
      "\n",
      "\n",
      "----University of Toronto, Harbord----\n",
      "                 venue  freq\n",
      "0                 Café  0.15\n",
      "1            Bookstore  0.09\n",
      "2                  Bar  0.06\n",
      "3  Japanese Restaurant  0.06\n",
      "4       Sandwich Place  0.06\n",
      "\n",
      "\n"
     ]
    }
   ],
   "source": [
    "num_top_venues = 5\n",
    "\n",
    "for hood in Toronto_grouped['Neighborhood']:\n",
    "    print(\"----\"+hood+\"----\")\n",
    "    temp = Toronto_grouped[Toronto_grouped['Neighborhood'] == hood].T.reset_index()\n",
    "    temp.columns = ['venue','freq']\n",
    "    temp = temp.iloc[1:]\n",
    "    temp['freq'] = temp['freq'].astype(float)\n",
    "    temp = temp.round({'freq': 2})\n",
    "    print(temp.sort_values('freq', ascending=False).reset_index(drop=True).head(num_top_venues))\n",
    "    print('\\n')"
   ]
  },
  {
   "source": [
    "#### Let's put that into a pandas dataframe"
   ],
   "cell_type": "markdown",
   "metadata": {}
  },
  {
   "cell_type": "code",
   "execution_count": 205,
   "metadata": {},
   "outputs": [],
   "source": [
    "def return_most_common_venues(row, num_top_venues):\n",
    "    row_categories = row.iloc[1:]\n",
    "    row_categories_sorted = row_categories.sort_values(ascending=False)\n",
    "    \n",
    "    return row_categories_sorted.index.values[0:num_top_venues]"
   ]
  },
  {
   "cell_type": "code",
   "execution_count": 206,
   "metadata": {},
   "outputs": [
    {
     "output_type": "execute_result",
     "data": {
      "text/plain": [
       "                                        Neighborhood 1st Most Common Venue  \\\n",
       "0                                        Berczy Park           Coffee Shop   \n",
       "1       Brockton, Parkdale Village, Exhibition Place                  Café   \n",
       "2  Business reply mail Processing Centre, South C...                  Park   \n",
       "3  CN Tower, King and Spadina, Railway Lands, Har...        Airport Lounge   \n",
       "4                                 Central Bay Street           Coffee Shop   \n",
       "\n",
       "  2nd Most Common Venue 3rd Most Common Venue 4th Most Common Venue  \\\n",
       "0                Bakery            Restaurant           Cheese Shop   \n",
       "1        Breakfast Spot             Nightclub           Coffee Shop   \n",
       "2           Pizza Place            Skate Park               Brewery   \n",
       "3       Airport Service      Sculpture Garden              Boutique   \n",
       "4                  Café        Sandwich Place    Italian Restaurant   \n",
       "\n",
       "  5th Most Common Venue 6th Most Common Venue 7th Most Common Venue  \\\n",
       "0              Beer Bar          Cocktail Bar    Seafood Restaurant   \n",
       "1         Grocery Store         Burrito Place                Bakery   \n",
       "2         Burrito Place        Farmers Market  Fast Food Restaurant   \n",
       "3                 Plane   Rental Car Location           Coffee Shop   \n",
       "4          Burger Joint      Department Store       Bubble Tea Shop   \n",
       "\n",
       "  8th Most Common Venue 9th Most Common Venue 10th Most Common Venue  \n",
       "0        Farmers Market        Breakfast Spot               Pharmacy  \n",
       "1          Intersection    Italian Restaurant             Restaurant  \n",
       "2            Restaurant               Butcher       Recording Studio  \n",
       "3         Boat or Ferry       Harbor / Marina                    Bar  \n",
       "4       Thai Restaurant   Japanese Restaurant            Salad Place  "
      ],
      "text/html": "<div>\n<style scoped>\n    .dataframe tbody tr th:only-of-type {\n        vertical-align: middle;\n    }\n\n    .dataframe tbody tr th {\n        vertical-align: top;\n    }\n\n    .dataframe thead th {\n        text-align: right;\n    }\n</style>\n<table border=\"1\" class=\"dataframe\">\n  <thead>\n    <tr style=\"text-align: right;\">\n      <th></th>\n      <th>Neighborhood</th>\n      <th>1st Most Common Venue</th>\n      <th>2nd Most Common Venue</th>\n      <th>3rd Most Common Venue</th>\n      <th>4th Most Common Venue</th>\n      <th>5th Most Common Venue</th>\n      <th>6th Most Common Venue</th>\n      <th>7th Most Common Venue</th>\n      <th>8th Most Common Venue</th>\n      <th>9th Most Common Venue</th>\n      <th>10th Most Common Venue</th>\n    </tr>\n  </thead>\n  <tbody>\n    <tr>\n      <th>0</th>\n      <td>Berczy Park</td>\n      <td>Coffee Shop</td>\n      <td>Bakery</td>\n      <td>Restaurant</td>\n      <td>Cheese Shop</td>\n      <td>Beer Bar</td>\n      <td>Cocktail Bar</td>\n      <td>Seafood Restaurant</td>\n      <td>Farmers Market</td>\n      <td>Breakfast Spot</td>\n      <td>Pharmacy</td>\n    </tr>\n    <tr>\n      <th>1</th>\n      <td>Brockton, Parkdale Village, Exhibition Place</td>\n      <td>Café</td>\n      <td>Breakfast Spot</td>\n      <td>Nightclub</td>\n      <td>Coffee Shop</td>\n      <td>Grocery Store</td>\n      <td>Burrito Place</td>\n      <td>Bakery</td>\n      <td>Intersection</td>\n      <td>Italian Restaurant</td>\n      <td>Restaurant</td>\n    </tr>\n    <tr>\n      <th>2</th>\n      <td>Business reply mail Processing Centre, South C...</td>\n      <td>Park</td>\n      <td>Pizza Place</td>\n      <td>Skate Park</td>\n      <td>Brewery</td>\n      <td>Burrito Place</td>\n      <td>Farmers Market</td>\n      <td>Fast Food Restaurant</td>\n      <td>Restaurant</td>\n      <td>Butcher</td>\n      <td>Recording Studio</td>\n    </tr>\n    <tr>\n      <th>3</th>\n      <td>CN Tower, King and Spadina, Railway Lands, Har...</td>\n      <td>Airport Lounge</td>\n      <td>Airport Service</td>\n      <td>Sculpture Garden</td>\n      <td>Boutique</td>\n      <td>Plane</td>\n      <td>Rental Car Location</td>\n      <td>Coffee Shop</td>\n      <td>Boat or Ferry</td>\n      <td>Harbor / Marina</td>\n      <td>Bar</td>\n    </tr>\n    <tr>\n      <th>4</th>\n      <td>Central Bay Street</td>\n      <td>Coffee Shop</td>\n      <td>Café</td>\n      <td>Sandwich Place</td>\n      <td>Italian Restaurant</td>\n      <td>Burger Joint</td>\n      <td>Department Store</td>\n      <td>Bubble Tea Shop</td>\n      <td>Thai Restaurant</td>\n      <td>Japanese Restaurant</td>\n      <td>Salad Place</td>\n    </tr>\n  </tbody>\n</table>\n</div>"
     },
     "metadata": {},
     "execution_count": 206
    }
   ],
   "source": [
    "num_top_venues = 10\n",
    "\n",
    "indicators = ['st', 'nd', 'rd']\n",
    "\n",
    "# create columns according to number of top venues\n",
    "columns = ['Neighborhood']\n",
    "for ind in np.arange(num_top_venues):\n",
    "    try:\n",
    "        columns.append('{}{} Most Common Venue'.format(ind+1, indicators[ind]))\n",
    "    except:\n",
    "        columns.append('{}th Most Common Venue'.format(ind+1))\n",
    "\n",
    "# create a new dataframe\n",
    "neighborhoods_venues_sorted = pd.DataFrame(columns=columns)\n",
    "neighborhoods_venues_sorted['Neighborhood'] = Toronto_grouped['Neighborhood']\n",
    "\n",
    "for ind in np.arange(Toronto_grouped.shape[0]):\n",
    "    neighborhoods_venues_sorted.iloc[ind, 1:] = return_most_common_venues(Toronto_grouped.iloc[ind, :], num_top_venues)\n",
    "\n",
    "neighborhoods_venues_sorted.head()"
   ]
  },
  {
   "source": [
    "### 4. Cluster Neighborhoods"
   ],
   "cell_type": "markdown",
   "metadata": {}
  },
  {
   "source": [
    "#### Run k-means to cluster the neighborhood into 5 clusters."
   ],
   "cell_type": "markdown",
   "metadata": {}
  },
  {
   "cell_type": "code",
   "execution_count": 207,
   "metadata": {},
   "outputs": [
    {
     "output_type": "execute_result",
     "data": {
      "text/plain": [
       "array([0, 0, 0, 0, 0, 0, 0, 0, 0, 0, 0, 0, 3, 0, 0, 0, 0, 0, 2, 0, 1, 0,\n",
       "       0, 0, 0, 0, 3, 4, 0, 0, 0, 0, 0, 0, 0, 0, 0, 0, 0])"
      ]
     },
     "metadata": {},
     "execution_count": 207
    }
   ],
   "source": [
    "kclusters = 5\n",
    "\n",
    "Toronto_grouped_clustering = Toronto_grouped.drop('Neighborhood', 1)\n",
    "\n",
    "# run k-means clustering\n",
    "kmeans = KMeans(n_clusters=kclusters, random_state=0).fit(Toronto_grouped_clustering)\n",
    "\n",
    "# check cluster labels generated for each row in the dataframe\n",
    "kmeans.labels_[:] "
   ]
  },
  {
   "source": [
    "#### Create a new dataframe that includes the cluster as well as the top 10 venues for each neighborhood."
   ],
   "cell_type": "markdown",
   "metadata": {}
  },
  {
   "cell_type": "code",
   "execution_count": 208,
   "metadata": {},
   "outputs": [
    {
     "output_type": "execute_result",
     "data": {
      "text/plain": [
       "  PostalCode           Borough                                 Neighborhood  \\\n",
       "0        M5A  Downtown Toronto                    Regent Park, Harbourfront   \n",
       "1        M7A  Downtown Toronto  Queen's Park, Ontario Provincial Government   \n",
       "2        M5B  Downtown Toronto                     Garden District, Ryerson   \n",
       "3        M5C  Downtown Toronto                               St. James Town   \n",
       "4        M4E      East Toronto                                  The Beaches   \n",
       "\n",
       "    Latitude  Longitude  Cluster Labels 1st Most Common Venue  \\\n",
       "0  43.654260 -79.360636               0           Coffee Shop   \n",
       "1  43.662301 -79.389494               0           Coffee Shop   \n",
       "2  43.657162 -79.378937               0        Clothing Store   \n",
       "3  43.651494 -79.375418               0           Coffee Shop   \n",
       "4  43.676357 -79.293031               0                   Pub   \n",
       "\n",
       "  2nd Most Common Venue 3rd Most Common Venue 4th Most Common Venue  \\\n",
       "0                  Park                   Pub                Bakery   \n",
       "1           Yoga Studio                  Café         Smoothie Shop   \n",
       "2           Coffee Shop                  Café       Bubble Tea Shop   \n",
       "3                  Café          Cocktail Bar            Restaurant   \n",
       "4                 Trail     Health Food Store         Women's Store   \n",
       "\n",
       "  5th Most Common Venue 6th Most Common Venue 7th Most Common Venue  \\\n",
       "0                  Café               Theater        Breakfast Spot   \n",
       "1              Beer Bar    Italian Restaurant        Sandwich Place   \n",
       "2        Cosmetics Shop   Japanese Restaurant           Pizza Place   \n",
       "3             Gastropub              Beer Bar   American Restaurant   \n",
       "4   Distribution Center          Dessert Shop    Dim Sum Restaurant   \n",
       "\n",
       "  8th Most Common Venue 9th Most Common Venue     10th Most Common Venue  \n",
       "0               Brewery                   Spa                 Beer Store  \n",
       "1            Restaurant   Distribution Center                      Diner  \n",
       "2      Ramen Restaurant             Bookstore  Middle Eastern Restaurant  \n",
       "3        Lingerie Store                 Hotel             Cosmetics Shop  \n",
       "4                 Diner        Discount Store           Doner Restaurant  "
      ],
      "text/html": "<div>\n<style scoped>\n    .dataframe tbody tr th:only-of-type {\n        vertical-align: middle;\n    }\n\n    .dataframe tbody tr th {\n        vertical-align: top;\n    }\n\n    .dataframe thead th {\n        text-align: right;\n    }\n</style>\n<table border=\"1\" class=\"dataframe\">\n  <thead>\n    <tr style=\"text-align: right;\">\n      <th></th>\n      <th>PostalCode</th>\n      <th>Borough</th>\n      <th>Neighborhood</th>\n      <th>Latitude</th>\n      <th>Longitude</th>\n      <th>Cluster Labels</th>\n      <th>1st Most Common Venue</th>\n      <th>2nd Most Common Venue</th>\n      <th>3rd Most Common Venue</th>\n      <th>4th Most Common Venue</th>\n      <th>5th Most Common Venue</th>\n      <th>6th Most Common Venue</th>\n      <th>7th Most Common Venue</th>\n      <th>8th Most Common Venue</th>\n      <th>9th Most Common Venue</th>\n      <th>10th Most Common Venue</th>\n    </tr>\n  </thead>\n  <tbody>\n    <tr>\n      <th>0</th>\n      <td>M5A</td>\n      <td>Downtown Toronto</td>\n      <td>Regent Park, Harbourfront</td>\n      <td>43.654260</td>\n      <td>-79.360636</td>\n      <td>0</td>\n      <td>Coffee Shop</td>\n      <td>Park</td>\n      <td>Pub</td>\n      <td>Bakery</td>\n      <td>Café</td>\n      <td>Theater</td>\n      <td>Breakfast Spot</td>\n      <td>Brewery</td>\n      <td>Spa</td>\n      <td>Beer Store</td>\n    </tr>\n    <tr>\n      <th>1</th>\n      <td>M7A</td>\n      <td>Downtown Toronto</td>\n      <td>Queen's Park, Ontario Provincial Government</td>\n      <td>43.662301</td>\n      <td>-79.389494</td>\n      <td>0</td>\n      <td>Coffee Shop</td>\n      <td>Yoga Studio</td>\n      <td>Café</td>\n      <td>Smoothie Shop</td>\n      <td>Beer Bar</td>\n      <td>Italian Restaurant</td>\n      <td>Sandwich Place</td>\n      <td>Restaurant</td>\n      <td>Distribution Center</td>\n      <td>Diner</td>\n    </tr>\n    <tr>\n      <th>2</th>\n      <td>M5B</td>\n      <td>Downtown Toronto</td>\n      <td>Garden District, Ryerson</td>\n      <td>43.657162</td>\n      <td>-79.378937</td>\n      <td>0</td>\n      <td>Clothing Store</td>\n      <td>Coffee Shop</td>\n      <td>Café</td>\n      <td>Bubble Tea Shop</td>\n      <td>Cosmetics Shop</td>\n      <td>Japanese Restaurant</td>\n      <td>Pizza Place</td>\n      <td>Ramen Restaurant</td>\n      <td>Bookstore</td>\n      <td>Middle Eastern Restaurant</td>\n    </tr>\n    <tr>\n      <th>3</th>\n      <td>M5C</td>\n      <td>Downtown Toronto</td>\n      <td>St. James Town</td>\n      <td>43.651494</td>\n      <td>-79.375418</td>\n      <td>0</td>\n      <td>Coffee Shop</td>\n      <td>Café</td>\n      <td>Cocktail Bar</td>\n      <td>Restaurant</td>\n      <td>Gastropub</td>\n      <td>Beer Bar</td>\n      <td>American Restaurant</td>\n      <td>Lingerie Store</td>\n      <td>Hotel</td>\n      <td>Cosmetics Shop</td>\n    </tr>\n    <tr>\n      <th>4</th>\n      <td>M4E</td>\n      <td>East Toronto</td>\n      <td>The Beaches</td>\n      <td>43.676357</td>\n      <td>-79.293031</td>\n      <td>0</td>\n      <td>Pub</td>\n      <td>Trail</td>\n      <td>Health Food Store</td>\n      <td>Women's Store</td>\n      <td>Distribution Center</td>\n      <td>Dessert Shop</td>\n      <td>Dim Sum Restaurant</td>\n      <td>Diner</td>\n      <td>Discount Store</td>\n      <td>Doner Restaurant</td>\n    </tr>\n  </tbody>\n</table>\n</div>"
     },
     "metadata": {},
     "execution_count": 208
    }
   ],
   "source": [
    "neighborhoods_venues_sorted.insert(0, 'Cluster Labels', kmeans.labels_)\n",
    "\n",
    "Toronto_merged = data_T\n",
    "\n",
    "# merge manhattan_grouped with manhattan_data to add latitude/longitude for each neighborhood\n",
    "Toronto_merged = Toronto_merged.join(neighborhoods_venues_sorted.set_index('Neighborhood'), on='Neighborhood')\n",
    "\n",
    "Toronto_merged.head() # check the last columns!"
   ]
  },
  {
   "source": [
    "#### Create map whit labels of each cluster"
   ],
   "cell_type": "markdown",
   "metadata": {}
  },
  {
   "cell_type": "code",
   "execution_count": 209,
   "metadata": {},
   "outputs": [
    {
     "output_type": "execute_result",
     "data": {
      "text/plain": [
       "<folium.folium.Map at 0x2541d602348>"
      ],
      "text/html": "<div style=\"width:100%;\"><div style=\"position:relative;width:100%;height:0;padding-bottom:60%;\"><span style=\"color:#565656\">Make this Notebook Trusted to load map: File -> Trust Notebook</span><iframe src=\"about:blank\" style=\"position:absolute;width:100%;height:100%;left:0;top:0;border:none !important;\" data-html=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 onload=\"this.contentDocument.open();this.contentDocument.write(atob(this.getAttribute('data-html')));this.contentDocument.close();\" allowfullscreen webkitallowfullscreen mozallowfullscreen></iframe></div></div>"
     },
     "metadata": {},
     "execution_count": 209
    }
   ],
   "source": [
    "map_clusters = folium.Map(location=[latitude, longitude], zoom_start=12)\n",
    "\n",
    "# set color scheme for the clusters\n",
    "x = np.arange(kclusters)\n",
    "ys = [i + x + (i*x)**2 for i in range(kclusters)]\n",
    "colors_array = cm.rainbow(np.linspace(0, 1, len(ys)))\n",
    "rainbow = [colors.rgb2hex(i) for i in colors_array]\n",
    "\n",
    "# add markers to the map\n",
    "markers_colors = []\n",
    "for lat, lon, poi, cluster in zip(Toronto_merged['Latitude'], Toronto_merged['Longitude'], Toronto_merged['Neighborhood'], Toronto_merged['Cluster Labels']):\n",
    "    label = folium.Popup(str(poi) + ' Cluster ' + str(cluster), parse_html=True)\n",
    "    folium.CircleMarker(\n",
    "        [lat, lon],\n",
    "        radius=5,\n",
    "        popup=label,\n",
    "        color=rainbow[cluster-1],\n",
    "        fill=True,\n",
    "        fill_color=rainbow[cluster-1],\n",
    "        fill_opacity=0.7).add_to(map_clusters)\n",
    "       \n",
    "map_clusters"
   ]
  },
  {
   "source": [
    "### 5. Examine Clusters"
   ],
   "cell_type": "markdown",
   "metadata": {}
  },
  {
   "source": [
    "#### According to the results, let´s to name each cluster:"
   ],
   "cell_type": "markdown",
   "metadata": {}
  },
  {
   "source": [
    "- Cluster 0 is 'Entertainment' because most places are food or cloths shop. "
   ],
   "cell_type": "markdown",
   "metadata": {}
  },
  {
   "cell_type": "code",
   "execution_count": 210,
   "metadata": {},
   "outputs": [
    {
     "output_type": "execute_result",
     "data": {
      "text/plain": [
       "             Borough  Cluster Labels 1st Most Common Venue  \\\n",
       "0   Downtown Toronto               0           Coffee Shop   \n",
       "1   Downtown Toronto               0           Coffee Shop   \n",
       "2   Downtown Toronto               0        Clothing Store   \n",
       "3   Downtown Toronto               0           Coffee Shop   \n",
       "4       East Toronto               0                   Pub   \n",
       "5   Downtown Toronto               0           Coffee Shop   \n",
       "6   Downtown Toronto               0           Coffee Shop   \n",
       "7   Downtown Toronto               0         Grocery Store   \n",
       "8   Downtown Toronto               0           Coffee Shop   \n",
       "9       West Toronto               0              Pharmacy   \n",
       "10  Downtown Toronto               0           Coffee Shop   \n",
       "11      West Toronto               0                   Bar   \n",
       "12      East Toronto               0      Greek Restaurant   \n",
       "13  Downtown Toronto               0           Coffee Shop   \n",
       "14      West Toronto               0                  Café   \n",
       "15      East Toronto               0                  Park   \n",
       "16  Downtown Toronto               0           Coffee Shop   \n",
       "17      East Toronto               0           Coffee Shop   \n",
       "20   Central Toronto               0                  Park   \n",
       "22      West Toronto               0                   Bar   \n",
       "23   Central Toronto               0           Coffee Shop   \n",
       "24   Central Toronto               0        Sandwich Place   \n",
       "25      West Toronto               0             Gift Shop   \n",
       "26   Central Toronto               0        Sandwich Place   \n",
       "27  Downtown Toronto               0                  Café   \n",
       "28      West Toronto               0           Coffee Shop   \n",
       "30  Downtown Toronto               0    Mexican Restaurant   \n",
       "31   Central Toronto               0           Coffee Shop   \n",
       "32  Downtown Toronto               0        Airport Lounge   \n",
       "34  Downtown Toronto               0           Coffee Shop   \n",
       "35  Downtown Toronto               0           Coffee Shop   \n",
       "36  Downtown Toronto               0           Coffee Shop   \n",
       "37  Downtown Toronto               0           Coffee Shop   \n",
       "38      East Toronto               0                  Park   \n",
       "\n",
       "   2nd Most Common Venue          3rd Most Common Venue 4th Most Common Venue  \\\n",
       "0                   Park                            Pub                Bakery   \n",
       "1            Yoga Studio                           Café         Smoothie Shop   \n",
       "2            Coffee Shop                           Café       Bubble Tea Shop   \n",
       "3                   Café                   Cocktail Bar            Restaurant   \n",
       "4                  Trail              Health Food Store         Women's Store   \n",
       "5                 Bakery                     Restaurant           Cheese Shop   \n",
       "6                   Café                 Sandwich Place    Italian Restaurant   \n",
       "7                   Café                           Park            Baby Store   \n",
       "8                   Café                     Restaurant                 Hotel   \n",
       "9                 Bakery                  Grocery Store           Supermarket   \n",
       "10              Aquarium                          Hotel                  Café   \n",
       "11           Coffee Shop          Vietnamese Restaurant            Restaurant   \n",
       "12           Coffee Shop             Italian Restaurant            Restaurant   \n",
       "13                 Hotel                     Restaurant                  Café   \n",
       "14        Breakfast Spot                      Nightclub           Coffee Shop   \n",
       "15           Pizza Place           Fast Food Restaurant                   Pub   \n",
       "16            Restaurant                          Hotel                  Café   \n",
       "17                Bakery                      Gastropub               Brewery   \n",
       "20        Sandwich Place                   Dance Studio                 Hotel   \n",
       "22                  Café             Mexican Restaurant       Thai Restaurant   \n",
       "23        Clothing Store                    Yoga Studio            Bagel Shop   \n",
       "24                  Café                    Coffee Shop        History Museum   \n",
       "25        Breakfast Spot                        Dog Run                   Bar   \n",
       "26          Dessert Shop                    Pizza Place                   Gym   \n",
       "27             Bookstore            Japanese Restaurant        Sandwich Place   \n",
       "28                  Café             Italian Restaurant                   Pub   \n",
       "30           Coffee Shop  Vegetarian / Vegan Restaurant                  Café   \n",
       "31           Supermarket                     Restaurant            Bagel Shop   \n",
       "32       Airport Service               Sculpture Garden              Boutique   \n",
       "34    Italian Restaurant                            Pub                 Hotel   \n",
       "35            Restaurant                           Café           Pizza Place   \n",
       "36                  Café                          Hotel   American Restaurant   \n",
       "37      Sushi Restaurant            Japanese Restaurant               Gay Bar   \n",
       "38           Pizza Place                     Skate Park               Brewery   \n",
       "\n",
       "          5th Most Common Venue  6th Most Common Venue 7th Most Common Venue  \\\n",
       "0                          Café                Theater        Breakfast Spot   \n",
       "1                      Beer Bar     Italian Restaurant        Sandwich Place   \n",
       "2                Cosmetics Shop    Japanese Restaurant           Pizza Place   \n",
       "3                     Gastropub               Beer Bar   American Restaurant   \n",
       "4           Distribution Center           Dessert Shop    Dim Sum Restaurant   \n",
       "5                      Beer Bar           Cocktail Bar    Seafood Restaurant   \n",
       "6                  Burger Joint       Department Store       Bubble Tea Shop   \n",
       "7                     Nightclub     Athletics & Sports            Restaurant   \n",
       "8                           Bar                    Gym        Clothing Store   \n",
       "9     Middle Eastern Restaurant            Music Venue                  Café   \n",
       "10                   Restaurant    Fried Chicken Joint        Scenic Lookout   \n",
       "11                         Café       Asian Restaurant           Men's Store   \n",
       "12       Furniture / Home Store              Bookstore        Ice Cream Shop   \n",
       "13          American Restaurant     Seafood Restaurant           Salad Place   \n",
       "14                Grocery Store          Burrito Place                Bakery   \n",
       "15            Fish & Chips Shop             Steakhouse      Sushi Restaurant   \n",
       "16                          Gym    American Restaurant    Seafood Restaurant   \n",
       "17                         Café    American Restaurant     Convenience Store   \n",
       "20            Food & Drink Shop                Dog Run        Breakfast Spot   \n",
       "22                       Bakery              Speakeasy             Bookstore   \n",
       "23       Furniture / Home Store         Ice Cream Shop  Fast Food Restaurant   \n",
       "24                 Liquor Store           Burger Joint     Indian Restaurant   \n",
       "25  Eastern European Restaurant           Dessert Shop           Coffee Shop   \n",
       "26           Italian Restaurant       Sushi Restaurant                  Café   \n",
       "27                          Bar                 Bakery              Beer Bar   \n",
       "28                  Pizza Place       Sushi Restaurant     French Restaurant   \n",
       "30                          Bar  Vietnamese Restaurant                Bakery   \n",
       "31             Sushi Restaurant                   Bank   Fried Chicken Joint   \n",
       "32                        Plane    Rental Car Location           Coffee Shop   \n",
       "34           Seafood Restaurant    Japanese Restaurant              Beer Bar   \n",
       "35           Chinese Restaurant                    Pub    Italian Restaurant   \n",
       "36                          Gym             Restaurant   Japanese Restaurant   \n",
       "37                   Restaurant            Yoga Studio           Men's Store   \n",
       "38                Burrito Place         Farmers Market  Fast Food Restaurant   \n",
       "\n",
       "        8th Most Common Venue 9th Most Common Venue     10th Most Common Venue  \n",
       "0                     Brewery                   Spa                 Beer Store  \n",
       "1                  Restaurant   Distribution Center                      Diner  \n",
       "2            Ramen Restaurant             Bookstore  Middle Eastern Restaurant  \n",
       "3              Lingerie Store                 Hotel             Cosmetics Shop  \n",
       "4                       Diner        Discount Store           Doner Restaurant  \n",
       "5              Farmers Market        Breakfast Spot                   Pharmacy  \n",
       "6             Thai Restaurant   Japanese Restaurant                Salad Place  \n",
       "7                 Coffee Shop           Candy Store         Italian Restaurant  \n",
       "8             Thai Restaurant             Juice Bar               Concert Hall  \n",
       "9                     Brewery                   Bar                       Bank  \n",
       "10                    Brewery           Music Venue                       Park  \n",
       "11               Cupcake Shop           Record Shop                Pizza Place  \n",
       "12                        Pub           Pizza Place                     Lounge  \n",
       "13        Japanese Restaurant      Asian Restaurant               Concert Hall  \n",
       "14               Intersection    Italian Restaurant                 Restaurant  \n",
       "15              Burrito Place    Italian Restaurant                 Restaurant  \n",
       "16              Deli / Bodega   Japanese Restaurant                   Beer Bar  \n",
       "17         Seafood Restaurant           Cheese Shop             Clothing Store  \n",
       "20       Gym / Fitness Center      Department Store                 Donut Shop  \n",
       "22  Cajun / Creole Restaurant           Music Venue              Grocery Store  \n",
       "23                      Diner    Mexican Restaurant         Chinese Restaurant  \n",
       "24                  BBQ Joint            Donut Shop  Middle Eastern Restaurant  \n",
       "25                  Bookstore            Restaurant         Italian Restaurant  \n",
       "26                Coffee Shop      Toy / Game Store           Indoor Play Area  \n",
       "27                 Beer Store    Italian Restaurant    Comfort Food Restaurant  \n",
       "28                      Diner                   Bar                       Bank  \n",
       "30               Dessert Shop                  Park                Pizza Place  \n",
       "31                Pizza Place   American Restaurant               Liquor Store  \n",
       "32              Boat or Ferry       Harbor / Marina                        Bar  \n",
       "34                 Restaurant                  Café             Farmers Market  \n",
       "35                     Bakery                Market                       Park  \n",
       "36         Seafood Restaurant           Salad Place              Deli / Bodega  \n",
       "37                       Café       Bubble Tea Shop                        Pub  \n",
       "38                 Restaurant               Butcher           Recording Studio  "
      ],
      "text/html": "<div>\n<style scoped>\n    .dataframe tbody tr th:only-of-type {\n        vertical-align: middle;\n    }\n\n    .dataframe tbody tr th {\n        vertical-align: top;\n    }\n\n    .dataframe thead th {\n        text-align: right;\n    }\n</style>\n<table border=\"1\" class=\"dataframe\">\n  <thead>\n    <tr style=\"text-align: right;\">\n      <th></th>\n      <th>Borough</th>\n      <th>Cluster Labels</th>\n      <th>1st Most Common Venue</th>\n      <th>2nd Most Common Venue</th>\n      <th>3rd Most Common Venue</th>\n      <th>4th Most Common Venue</th>\n      <th>5th Most Common Venue</th>\n      <th>6th Most Common Venue</th>\n      <th>7th Most Common Venue</th>\n      <th>8th Most Common Venue</th>\n      <th>9th Most Common Venue</th>\n      <th>10th Most Common Venue</th>\n    </tr>\n  </thead>\n  <tbody>\n    <tr>\n      <th>0</th>\n      <td>Downtown Toronto</td>\n      <td>0</td>\n      <td>Coffee Shop</td>\n      <td>Park</td>\n      <td>Pub</td>\n      <td>Bakery</td>\n      <td>Café</td>\n      <td>Theater</td>\n      <td>Breakfast Spot</td>\n      <td>Brewery</td>\n      <td>Spa</td>\n      <td>Beer Store</td>\n    </tr>\n    <tr>\n      <th>1</th>\n      <td>Downtown Toronto</td>\n      <td>0</td>\n      <td>Coffee Shop</td>\n      <td>Yoga Studio</td>\n      <td>Café</td>\n      <td>Smoothie Shop</td>\n      <td>Beer Bar</td>\n      <td>Italian Restaurant</td>\n      <td>Sandwich Place</td>\n      <td>Restaurant</td>\n      <td>Distribution Center</td>\n      <td>Diner</td>\n    </tr>\n    <tr>\n      <th>2</th>\n      <td>Downtown Toronto</td>\n      <td>0</td>\n      <td>Clothing Store</td>\n      <td>Coffee Shop</td>\n      <td>Café</td>\n      <td>Bubble Tea Shop</td>\n      <td>Cosmetics Shop</td>\n      <td>Japanese Restaurant</td>\n      <td>Pizza Place</td>\n      <td>Ramen Restaurant</td>\n      <td>Bookstore</td>\n      <td>Middle Eastern Restaurant</td>\n    </tr>\n    <tr>\n      <th>3</th>\n      <td>Downtown Toronto</td>\n      <td>0</td>\n      <td>Coffee Shop</td>\n      <td>Café</td>\n      <td>Cocktail Bar</td>\n      <td>Restaurant</td>\n      <td>Gastropub</td>\n      <td>Beer Bar</td>\n      <td>American Restaurant</td>\n      <td>Lingerie Store</td>\n      <td>Hotel</td>\n      <td>Cosmetics Shop</td>\n    </tr>\n    <tr>\n      <th>4</th>\n      <td>East Toronto</td>\n      <td>0</td>\n      <td>Pub</td>\n      <td>Trail</td>\n      <td>Health Food Store</td>\n      <td>Women's Store</td>\n      <td>Distribution Center</td>\n      <td>Dessert Shop</td>\n      <td>Dim Sum Restaurant</td>\n      <td>Diner</td>\n      <td>Discount Store</td>\n      <td>Doner Restaurant</td>\n    </tr>\n    <tr>\n      <th>5</th>\n      <td>Downtown Toronto</td>\n      <td>0</td>\n      <td>Coffee Shop</td>\n      <td>Bakery</td>\n      <td>Restaurant</td>\n      <td>Cheese Shop</td>\n      <td>Beer Bar</td>\n      <td>Cocktail Bar</td>\n      <td>Seafood Restaurant</td>\n      <td>Farmers Market</td>\n      <td>Breakfast Spot</td>\n      <td>Pharmacy</td>\n    </tr>\n    <tr>\n      <th>6</th>\n      <td>Downtown Toronto</td>\n      <td>0</td>\n      <td>Coffee Shop</td>\n      <td>Café</td>\n      <td>Sandwich Place</td>\n      <td>Italian Restaurant</td>\n      <td>Burger Joint</td>\n      <td>Department Store</td>\n      <td>Bubble Tea Shop</td>\n      <td>Thai Restaurant</td>\n      <td>Japanese Restaurant</td>\n      <td>Salad Place</td>\n    </tr>\n    <tr>\n      <th>7</th>\n      <td>Downtown Toronto</td>\n      <td>0</td>\n      <td>Grocery Store</td>\n      <td>Café</td>\n      <td>Park</td>\n      <td>Baby Store</td>\n      <td>Nightclub</td>\n      <td>Athletics &amp; Sports</td>\n      <td>Restaurant</td>\n      <td>Coffee Shop</td>\n      <td>Candy Store</td>\n      <td>Italian Restaurant</td>\n    </tr>\n    <tr>\n      <th>8</th>\n      <td>Downtown Toronto</td>\n      <td>0</td>\n      <td>Coffee Shop</td>\n      <td>Café</td>\n      <td>Restaurant</td>\n      <td>Hotel</td>\n      <td>Bar</td>\n      <td>Gym</td>\n      <td>Clothing Store</td>\n      <td>Thai Restaurant</td>\n      <td>Juice Bar</td>\n      <td>Concert Hall</td>\n    </tr>\n    <tr>\n      <th>9</th>\n      <td>West Toronto</td>\n      <td>0</td>\n      <td>Pharmacy</td>\n      <td>Bakery</td>\n      <td>Grocery Store</td>\n      <td>Supermarket</td>\n      <td>Middle Eastern Restaurant</td>\n      <td>Music Venue</td>\n      <td>Café</td>\n      <td>Brewery</td>\n      <td>Bar</td>\n      <td>Bank</td>\n    </tr>\n    <tr>\n      <th>10</th>\n      <td>Downtown Toronto</td>\n      <td>0</td>\n      <td>Coffee Shop</td>\n      <td>Aquarium</td>\n      <td>Hotel</td>\n      <td>Café</td>\n      <td>Restaurant</td>\n      <td>Fried Chicken Joint</td>\n      <td>Scenic Lookout</td>\n      <td>Brewery</td>\n      <td>Music Venue</td>\n      <td>Park</td>\n    </tr>\n    <tr>\n      <th>11</th>\n      <td>West Toronto</td>\n      <td>0</td>\n      <td>Bar</td>\n      <td>Coffee Shop</td>\n      <td>Vietnamese Restaurant</td>\n      <td>Restaurant</td>\n      <td>Café</td>\n      <td>Asian Restaurant</td>\n      <td>Men's Store</td>\n      <td>Cupcake Shop</td>\n      <td>Record Shop</td>\n      <td>Pizza Place</td>\n    </tr>\n    <tr>\n      <th>12</th>\n      <td>East Toronto</td>\n      <td>0</td>\n      <td>Greek Restaurant</td>\n      <td>Coffee Shop</td>\n      <td>Italian Restaurant</td>\n      <td>Restaurant</td>\n      <td>Furniture / Home Store</td>\n      <td>Bookstore</td>\n      <td>Ice Cream Shop</td>\n      <td>Pub</td>\n      <td>Pizza Place</td>\n      <td>Lounge</td>\n    </tr>\n    <tr>\n      <th>13</th>\n      <td>Downtown Toronto</td>\n      <td>0</td>\n      <td>Coffee Shop</td>\n      <td>Hotel</td>\n      <td>Restaurant</td>\n      <td>Café</td>\n      <td>American Restaurant</td>\n      <td>Seafood Restaurant</td>\n      <td>Salad Place</td>\n      <td>Japanese Restaurant</td>\n      <td>Asian Restaurant</td>\n      <td>Concert Hall</td>\n    </tr>\n    <tr>\n      <th>14</th>\n      <td>West Toronto</td>\n      <td>0</td>\n      <td>Café</td>\n      <td>Breakfast Spot</td>\n      <td>Nightclub</td>\n      <td>Coffee Shop</td>\n      <td>Grocery Store</td>\n      <td>Burrito Place</td>\n      <td>Bakery</td>\n      <td>Intersection</td>\n      <td>Italian Restaurant</td>\n      <td>Restaurant</td>\n    </tr>\n    <tr>\n      <th>15</th>\n      <td>East Toronto</td>\n      <td>0</td>\n      <td>Park</td>\n      <td>Pizza Place</td>\n      <td>Fast Food Restaurant</td>\n      <td>Pub</td>\n      <td>Fish &amp; Chips Shop</td>\n      <td>Steakhouse</td>\n      <td>Sushi Restaurant</td>\n      <td>Burrito Place</td>\n      <td>Italian Restaurant</td>\n      <td>Restaurant</td>\n    </tr>\n    <tr>\n      <th>16</th>\n      <td>Downtown Toronto</td>\n      <td>0</td>\n      <td>Coffee Shop</td>\n      <td>Restaurant</td>\n      <td>Hotel</td>\n      <td>Café</td>\n      <td>Gym</td>\n      <td>American Restaurant</td>\n      <td>Seafood Restaurant</td>\n      <td>Deli / Bodega</td>\n      <td>Japanese Restaurant</td>\n      <td>Beer Bar</td>\n    </tr>\n    <tr>\n      <th>17</th>\n      <td>East Toronto</td>\n      <td>0</td>\n      <td>Coffee Shop</td>\n      <td>Bakery</td>\n      <td>Gastropub</td>\n      <td>Brewery</td>\n      <td>Café</td>\n      <td>American Restaurant</td>\n      <td>Convenience Store</td>\n      <td>Seafood Restaurant</td>\n      <td>Cheese Shop</td>\n      <td>Clothing Store</td>\n    </tr>\n    <tr>\n      <th>20</th>\n      <td>Central Toronto</td>\n      <td>0</td>\n      <td>Park</td>\n      <td>Sandwich Place</td>\n      <td>Dance Studio</td>\n      <td>Hotel</td>\n      <td>Food &amp; Drink Shop</td>\n      <td>Dog Run</td>\n      <td>Breakfast Spot</td>\n      <td>Gym / Fitness Center</td>\n      <td>Department Store</td>\n      <td>Donut Shop</td>\n    </tr>\n    <tr>\n      <th>22</th>\n      <td>West Toronto</td>\n      <td>0</td>\n      <td>Bar</td>\n      <td>Café</td>\n      <td>Mexican Restaurant</td>\n      <td>Thai Restaurant</td>\n      <td>Bakery</td>\n      <td>Speakeasy</td>\n      <td>Bookstore</td>\n      <td>Cajun / Creole Restaurant</td>\n      <td>Music Venue</td>\n      <td>Grocery Store</td>\n    </tr>\n    <tr>\n      <th>23</th>\n      <td>Central Toronto</td>\n      <td>0</td>\n      <td>Coffee Shop</td>\n      <td>Clothing Store</td>\n      <td>Yoga Studio</td>\n      <td>Bagel Shop</td>\n      <td>Furniture / Home Store</td>\n      <td>Ice Cream Shop</td>\n      <td>Fast Food Restaurant</td>\n      <td>Diner</td>\n      <td>Mexican Restaurant</td>\n      <td>Chinese Restaurant</td>\n    </tr>\n    <tr>\n      <th>24</th>\n      <td>Central Toronto</td>\n      <td>0</td>\n      <td>Sandwich Place</td>\n      <td>Café</td>\n      <td>Coffee Shop</td>\n      <td>History Museum</td>\n      <td>Liquor Store</td>\n      <td>Burger Joint</td>\n      <td>Indian Restaurant</td>\n      <td>BBQ Joint</td>\n      <td>Donut Shop</td>\n      <td>Middle Eastern Restaurant</td>\n    </tr>\n    <tr>\n      <th>25</th>\n      <td>West Toronto</td>\n      <td>0</td>\n      <td>Gift Shop</td>\n      <td>Breakfast Spot</td>\n      <td>Dog Run</td>\n      <td>Bar</td>\n      <td>Eastern European Restaurant</td>\n      <td>Dessert Shop</td>\n      <td>Coffee Shop</td>\n      <td>Bookstore</td>\n      <td>Restaurant</td>\n      <td>Italian Restaurant</td>\n    </tr>\n    <tr>\n      <th>26</th>\n      <td>Central Toronto</td>\n      <td>0</td>\n      <td>Sandwich Place</td>\n      <td>Dessert Shop</td>\n      <td>Pizza Place</td>\n      <td>Gym</td>\n      <td>Italian Restaurant</td>\n      <td>Sushi Restaurant</td>\n      <td>Café</td>\n      <td>Coffee Shop</td>\n      <td>Toy / Game Store</td>\n      <td>Indoor Play Area</td>\n    </tr>\n    <tr>\n      <th>27</th>\n      <td>Downtown Toronto</td>\n      <td>0</td>\n      <td>Café</td>\n      <td>Bookstore</td>\n      <td>Japanese Restaurant</td>\n      <td>Sandwich Place</td>\n      <td>Bar</td>\n      <td>Bakery</td>\n      <td>Beer Bar</td>\n      <td>Beer Store</td>\n      <td>Italian Restaurant</td>\n      <td>Comfort Food Restaurant</td>\n    </tr>\n    <tr>\n      <th>28</th>\n      <td>West Toronto</td>\n      <td>0</td>\n      <td>Coffee Shop</td>\n      <td>Café</td>\n      <td>Italian Restaurant</td>\n      <td>Pub</td>\n      <td>Pizza Place</td>\n      <td>Sushi Restaurant</td>\n      <td>French Restaurant</td>\n      <td>Diner</td>\n      <td>Bar</td>\n      <td>Bank</td>\n    </tr>\n    <tr>\n      <th>30</th>\n      <td>Downtown Toronto</td>\n      <td>0</td>\n      <td>Mexican Restaurant</td>\n      <td>Coffee Shop</td>\n      <td>Vegetarian / Vegan Restaurant</td>\n      <td>Café</td>\n      <td>Bar</td>\n      <td>Vietnamese Restaurant</td>\n      <td>Bakery</td>\n      <td>Dessert Shop</td>\n      <td>Park</td>\n      <td>Pizza Place</td>\n    </tr>\n    <tr>\n      <th>31</th>\n      <td>Central Toronto</td>\n      <td>0</td>\n      <td>Coffee Shop</td>\n      <td>Supermarket</td>\n      <td>Restaurant</td>\n      <td>Bagel Shop</td>\n      <td>Sushi Restaurant</td>\n      <td>Bank</td>\n      <td>Fried Chicken Joint</td>\n      <td>Pizza Place</td>\n      <td>American Restaurant</td>\n      <td>Liquor Store</td>\n    </tr>\n    <tr>\n      <th>32</th>\n      <td>Downtown Toronto</td>\n      <td>0</td>\n      <td>Airport Lounge</td>\n      <td>Airport Service</td>\n      <td>Sculpture Garden</td>\n      <td>Boutique</td>\n      <td>Plane</td>\n      <td>Rental Car Location</td>\n      <td>Coffee Shop</td>\n      <td>Boat or Ferry</td>\n      <td>Harbor / Marina</td>\n      <td>Bar</td>\n    </tr>\n    <tr>\n      <th>34</th>\n      <td>Downtown Toronto</td>\n      <td>0</td>\n      <td>Coffee Shop</td>\n      <td>Italian Restaurant</td>\n      <td>Pub</td>\n      <td>Hotel</td>\n      <td>Seafood Restaurant</td>\n      <td>Japanese Restaurant</td>\n      <td>Beer Bar</td>\n      <td>Restaurant</td>\n      <td>Café</td>\n      <td>Farmers Market</td>\n    </tr>\n    <tr>\n      <th>35</th>\n      <td>Downtown Toronto</td>\n      <td>0</td>\n      <td>Coffee Shop</td>\n      <td>Restaurant</td>\n      <td>Café</td>\n      <td>Pizza Place</td>\n      <td>Chinese Restaurant</td>\n      <td>Pub</td>\n      <td>Italian Restaurant</td>\n      <td>Bakery</td>\n      <td>Market</td>\n      <td>Park</td>\n    </tr>\n    <tr>\n      <th>36</th>\n      <td>Downtown Toronto</td>\n      <td>0</td>\n      <td>Coffee Shop</td>\n      <td>Café</td>\n      <td>Hotel</td>\n      <td>American Restaurant</td>\n      <td>Gym</td>\n      <td>Restaurant</td>\n      <td>Japanese Restaurant</td>\n      <td>Seafood Restaurant</td>\n      <td>Salad Place</td>\n      <td>Deli / Bodega</td>\n    </tr>\n    <tr>\n      <th>37</th>\n      <td>Downtown Toronto</td>\n      <td>0</td>\n      <td>Coffee Shop</td>\n      <td>Sushi Restaurant</td>\n      <td>Japanese Restaurant</td>\n      <td>Gay Bar</td>\n      <td>Restaurant</td>\n      <td>Yoga Studio</td>\n      <td>Men's Store</td>\n      <td>Café</td>\n      <td>Bubble Tea Shop</td>\n      <td>Pub</td>\n    </tr>\n    <tr>\n      <th>38</th>\n      <td>East Toronto</td>\n      <td>0</td>\n      <td>Park</td>\n      <td>Pizza Place</td>\n      <td>Skate Park</td>\n      <td>Brewery</td>\n      <td>Burrito Place</td>\n      <td>Farmers Market</td>\n      <td>Fast Food Restaurant</td>\n      <td>Restaurant</td>\n      <td>Butcher</td>\n      <td>Recording Studio</td>\n    </tr>\n  </tbody>\n</table>\n</div>"
     },
     "metadata": {},
     "execution_count": 210
    }
   ],
   "source": [
    "# Cluster 0\n",
    "Toronto_merged.loc[Toronto_merged['Cluster Labels'] == 0, Toronto_merged.columns[[1] + list(range(5, Toronto_merged.shape[1]))]]"
   ]
  },
  {
   "source": [
    "- Cluster 1 is 'Leisure' because the venues are for diferents activities."
   ],
   "cell_type": "markdown",
   "metadata": {}
  },
  {
   "cell_type": "code",
   "execution_count": 211,
   "metadata": {},
   "outputs": [
    {
     "output_type": "execute_result",
     "data": {
      "text/plain": [
       "            Borough  Cluster Labels 1st Most Common Venue  \\\n",
       "29  Central Toronto               1                 Trail   \n",
       "\n",
       "   2nd Most Common Venue 3rd Most Common Venue 4th Most Common Venue  \\\n",
       "29            Playground         Women's Store         Deli / Bodega   \n",
       "\n",
       "   5th Most Common Venue        6th Most Common Venue 7th Most Common Venue  \\\n",
       "29     Electronics Store  Eastern European Restaurant   Dumpling Restaurant   \n",
       "\n",
       "   8th Most Common Venue 9th Most Common Venue 10th Most Common Venue  \n",
       "29            Donut Shop      Doner Restaurant                Dog Run  "
      ],
      "text/html": "<div>\n<style scoped>\n    .dataframe tbody tr th:only-of-type {\n        vertical-align: middle;\n    }\n\n    .dataframe tbody tr th {\n        vertical-align: top;\n    }\n\n    .dataframe thead th {\n        text-align: right;\n    }\n</style>\n<table border=\"1\" class=\"dataframe\">\n  <thead>\n    <tr style=\"text-align: right;\">\n      <th></th>\n      <th>Borough</th>\n      <th>Cluster Labels</th>\n      <th>1st Most Common Venue</th>\n      <th>2nd Most Common Venue</th>\n      <th>3rd Most Common Venue</th>\n      <th>4th Most Common Venue</th>\n      <th>5th Most Common Venue</th>\n      <th>6th Most Common Venue</th>\n      <th>7th Most Common Venue</th>\n      <th>8th Most Common Venue</th>\n      <th>9th Most Common Venue</th>\n      <th>10th Most Common Venue</th>\n    </tr>\n  </thead>\n  <tbody>\n    <tr>\n      <th>29</th>\n      <td>Central Toronto</td>\n      <td>1</td>\n      <td>Trail</td>\n      <td>Playground</td>\n      <td>Women's Store</td>\n      <td>Deli / Bodega</td>\n      <td>Electronics Store</td>\n      <td>Eastern European Restaurant</td>\n      <td>Dumpling Restaurant</td>\n      <td>Donut Shop</td>\n      <td>Doner Restaurant</td>\n      <td>Dog Run</td>\n    </tr>\n  </tbody>\n</table>\n</div>"
     },
     "metadata": {},
     "execution_count": 211
    }
   ],
   "source": [
    "# Cluster 1\n",
    "Toronto_merged.loc[Toronto_merged['Cluster Labels'] == 1, Toronto_merged.columns[[1] + list(range(5, Toronto_merged.shape[1]))]]"
   ]
  },
  {
   "source": [
    "- Cluster 2 is 'Physical activities' because the venues are for these types of activities."
   ],
   "cell_type": "markdown",
   "metadata": {}
  },
  {
   "cell_type": "code",
   "execution_count": 212,
   "metadata": {},
   "outputs": [
    {
     "output_type": "execute_result",
     "data": {
      "text/plain": [
       "            Borough  Cluster Labels 1st Most Common Venue  \\\n",
       "18  Central Toronto               2                  Park   \n",
       "\n",
       "   2nd Most Common Venue 3rd Most Common Venue 4th Most Common Venue  \\\n",
       "18           Swim School              Bus Line     Electronics Store   \n",
       "\n",
       "          5th Most Common Venue 6th Most Common Venue 7th Most Common Venue  \\\n",
       "18  Eastern European Restaurant   Dumpling Restaurant            Donut Shop   \n",
       "\n",
       "   8th Most Common Venue 9th Most Common Venue 10th Most Common Venue  \n",
       "18      Doner Restaurant               Dog Run    Distribution Center  "
      ],
      "text/html": "<div>\n<style scoped>\n    .dataframe tbody tr th:only-of-type {\n        vertical-align: middle;\n    }\n\n    .dataframe tbody tr th {\n        vertical-align: top;\n    }\n\n    .dataframe thead th {\n        text-align: right;\n    }\n</style>\n<table border=\"1\" class=\"dataframe\">\n  <thead>\n    <tr style=\"text-align: right;\">\n      <th></th>\n      <th>Borough</th>\n      <th>Cluster Labels</th>\n      <th>1st Most Common Venue</th>\n      <th>2nd Most Common Venue</th>\n      <th>3rd Most Common Venue</th>\n      <th>4th Most Common Venue</th>\n      <th>5th Most Common Venue</th>\n      <th>6th Most Common Venue</th>\n      <th>7th Most Common Venue</th>\n      <th>8th Most Common Venue</th>\n      <th>9th Most Common Venue</th>\n      <th>10th Most Common Venue</th>\n    </tr>\n  </thead>\n  <tbody>\n    <tr>\n      <th>18</th>\n      <td>Central Toronto</td>\n      <td>2</td>\n      <td>Park</td>\n      <td>Swim School</td>\n      <td>Bus Line</td>\n      <td>Electronics Store</td>\n      <td>Eastern European Restaurant</td>\n      <td>Dumpling Restaurant</td>\n      <td>Donut Shop</td>\n      <td>Doner Restaurant</td>\n      <td>Dog Run</td>\n      <td>Distribution Center</td>\n    </tr>\n  </tbody>\n</table>\n</div>"
     },
     "metadata": {},
     "execution_count": 212
    }
   ],
   "source": [
    "# Cluster 2\n",
    "Toronto_merged.loc[Toronto_merged['Cluster Labels'] == 2, Toronto_merged.columns[[1] + list(range(5, Toronto_merged.shape[1]))]]"
   ]
  },
  {
   "source": [
    "- Cluster 3 is 'Various' because the types no define the cluster"
   ],
   "cell_type": "markdown",
   "metadata": {}
  },
  {
   "cell_type": "code",
   "execution_count": 213,
   "metadata": {},
   "outputs": [
    {
     "output_type": "execute_result",
     "data": {
      "text/plain": [
       "             Borough  Cluster Labels 1st Most Common Venue  \\\n",
       "21   Central Toronto               3                  Park   \n",
       "33  Downtown Toronto               3                  Park   \n",
       "\n",
       "   2nd Most Common Venue 3rd Most Common Venue 4th Most Common Venue  \\\n",
       "21      Sushi Restaurant         Jewelry Store                 Trail   \n",
       "33                 Trail            Playground          Dance Studio   \n",
       "\n",
       "          5th Most Common Venue        6th Most Common Venue  \\\n",
       "21            Electronics Store  Eastern European Restaurant   \n",
       "33  Eastern European Restaurant          Dumpling Restaurant   \n",
       "\n",
       "   7th Most Common Venue 8th Most Common Venue 9th Most Common Venue  \\\n",
       "21   Dumpling Restaurant            Donut Shop      Doner Restaurant   \n",
       "33            Donut Shop      Doner Restaurant               Dog Run   \n",
       "\n",
       "   10th Most Common Venue  \n",
       "21                Dog Run  \n",
       "33    Distribution Center  "
      ],
      "text/html": "<div>\n<style scoped>\n    .dataframe tbody tr th:only-of-type {\n        vertical-align: middle;\n    }\n\n    .dataframe tbody tr th {\n        vertical-align: top;\n    }\n\n    .dataframe thead th {\n        text-align: right;\n    }\n</style>\n<table border=\"1\" class=\"dataframe\">\n  <thead>\n    <tr style=\"text-align: right;\">\n      <th></th>\n      <th>Borough</th>\n      <th>Cluster Labels</th>\n      <th>1st Most Common Venue</th>\n      <th>2nd Most Common Venue</th>\n      <th>3rd Most Common Venue</th>\n      <th>4th Most Common Venue</th>\n      <th>5th Most Common Venue</th>\n      <th>6th Most Common Venue</th>\n      <th>7th Most Common Venue</th>\n      <th>8th Most Common Venue</th>\n      <th>9th Most Common Venue</th>\n      <th>10th Most Common Venue</th>\n    </tr>\n  </thead>\n  <tbody>\n    <tr>\n      <th>21</th>\n      <td>Central Toronto</td>\n      <td>3</td>\n      <td>Park</td>\n      <td>Sushi Restaurant</td>\n      <td>Jewelry Store</td>\n      <td>Trail</td>\n      <td>Electronics Store</td>\n      <td>Eastern European Restaurant</td>\n      <td>Dumpling Restaurant</td>\n      <td>Donut Shop</td>\n      <td>Doner Restaurant</td>\n      <td>Dog Run</td>\n    </tr>\n    <tr>\n      <th>33</th>\n      <td>Downtown Toronto</td>\n      <td>3</td>\n      <td>Park</td>\n      <td>Trail</td>\n      <td>Playground</td>\n      <td>Dance Studio</td>\n      <td>Eastern European Restaurant</td>\n      <td>Dumpling Restaurant</td>\n      <td>Donut Shop</td>\n      <td>Doner Restaurant</td>\n      <td>Dog Run</td>\n      <td>Distribution Center</td>\n    </tr>\n  </tbody>\n</table>\n</div>"
     },
     "metadata": {},
     "execution_count": 213
    }
   ],
   "source": [
    "# Cluster 3\n",
    "Toronto_merged.loc[Toronto_merged['Cluster Labels'] == 3, Toronto_merged.columns[[1] + list(range(5, Toronto_merged.shape[1]))]]"
   ]
  },
  {
   "source": [
    "- Cluster 4 is 'Relaxation' because places inspire this armony"
   ],
   "cell_type": "markdown",
   "metadata": {}
  },
  {
   "cell_type": "code",
   "execution_count": 214,
   "metadata": {},
   "outputs": [
    {
     "output_type": "execute_result",
     "data": {
      "text/plain": [
       "            Borough  Cluster Labels 1st Most Common Venue  \\\n",
       "19  Central Toronto               4           Music Venue   \n",
       "\n",
       "   2nd Most Common Venue 3rd Most Common Venue 4th Most Common Venue  \\\n",
       "19                Garden         Women's Store         Deli / Bodega   \n",
       "\n",
       "   5th Most Common Venue        6th Most Common Venue 7th Most Common Venue  \\\n",
       "19     Electronics Store  Eastern European Restaurant   Dumpling Restaurant   \n",
       "\n",
       "   8th Most Common Venue 9th Most Common Venue 10th Most Common Venue  \n",
       "19            Donut Shop      Doner Restaurant                Dog Run  "
      ],
      "text/html": "<div>\n<style scoped>\n    .dataframe tbody tr th:only-of-type {\n        vertical-align: middle;\n    }\n\n    .dataframe tbody tr th {\n        vertical-align: top;\n    }\n\n    .dataframe thead th {\n        text-align: right;\n    }\n</style>\n<table border=\"1\" class=\"dataframe\">\n  <thead>\n    <tr style=\"text-align: right;\">\n      <th></th>\n      <th>Borough</th>\n      <th>Cluster Labels</th>\n      <th>1st Most Common Venue</th>\n      <th>2nd Most Common Venue</th>\n      <th>3rd Most Common Venue</th>\n      <th>4th Most Common Venue</th>\n      <th>5th Most Common Venue</th>\n      <th>6th Most Common Venue</th>\n      <th>7th Most Common Venue</th>\n      <th>8th Most Common Venue</th>\n      <th>9th Most Common Venue</th>\n      <th>10th Most Common Venue</th>\n    </tr>\n  </thead>\n  <tbody>\n    <tr>\n      <th>19</th>\n      <td>Central Toronto</td>\n      <td>4</td>\n      <td>Music Venue</td>\n      <td>Garden</td>\n      <td>Women's Store</td>\n      <td>Deli / Bodega</td>\n      <td>Electronics Store</td>\n      <td>Eastern European Restaurant</td>\n      <td>Dumpling Restaurant</td>\n      <td>Donut Shop</td>\n      <td>Doner Restaurant</td>\n      <td>Dog Run</td>\n    </tr>\n  </tbody>\n</table>\n</div>"
     },
     "metadata": {},
     "execution_count": 214
    }
   ],
   "source": [
    "# Cluster 4\n",
    "Toronto_merged.loc[Toronto_merged['Cluster Labels'] == 4, Toronto_merged.columns[[1] + list(range(5, Toronto_merged.shape[1]))]]"
   ]
  }
 ]
}